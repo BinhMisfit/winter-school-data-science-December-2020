{
  "nbformat": 4,
  "nbformat_minor": 0,
  "metadata": {
    "colab": {
      "name": "TENCON",
      "provenance": [],
      "collapsed_sections": [],
      "toc_visible": true
    },
    "kernelspec": {
      "name": "python3",
      "display_name": "Python 3"
    },
    "accelerator": "GPU",
    "widgets": {
      "application/vnd.jupyter.widget-state+json": {
        "a127bcf902584bcaaff506337be1740b": {
          "model_module": "@jupyter-widgets/controls",
          "model_name": "HBoxModel",
          "state": {
            "_view_name": "HBoxView",
            "_dom_classes": [],
            "_model_name": "HBoxModel",
            "_view_module": "@jupyter-widgets/controls",
            "_model_module_version": "1.5.0",
            "_view_count": null,
            "_view_module_version": "1.5.0",
            "box_style": "",
            "layout": "IPY_MODEL_623477395eda46498263a2adab03508b",
            "_model_module": "@jupyter-widgets/controls",
            "children": [
              "IPY_MODEL_e5d32dce3a6d413697deaed7084eeb55",
              "IPY_MODEL_d14b1c1d50364fbe8d2b8b3b64ff292b"
            ]
          }
        },
        "623477395eda46498263a2adab03508b": {
          "model_module": "@jupyter-widgets/base",
          "model_name": "LayoutModel",
          "state": {
            "_view_name": "LayoutView",
            "grid_template_rows": null,
            "right": null,
            "justify_content": null,
            "_view_module": "@jupyter-widgets/base",
            "overflow": null,
            "_model_module_version": "1.2.0",
            "_view_count": null,
            "flex_flow": null,
            "width": null,
            "min_width": null,
            "border": null,
            "align_items": null,
            "bottom": null,
            "_model_module": "@jupyter-widgets/base",
            "top": null,
            "grid_column": null,
            "overflow_y": null,
            "overflow_x": null,
            "grid_auto_flow": null,
            "grid_area": null,
            "grid_template_columns": null,
            "flex": null,
            "_model_name": "LayoutModel",
            "justify_items": null,
            "grid_row": null,
            "max_height": null,
            "align_content": null,
            "visibility": null,
            "align_self": null,
            "height": null,
            "min_height": null,
            "padding": null,
            "grid_auto_rows": null,
            "grid_gap": null,
            "max_width": null,
            "order": null,
            "_view_module_version": "1.2.0",
            "grid_template_areas": null,
            "object_position": null,
            "object_fit": null,
            "grid_auto_columns": null,
            "margin": null,
            "display": null,
            "left": null
          }
        },
        "e5d32dce3a6d413697deaed7084eeb55": {
          "model_module": "@jupyter-widgets/controls",
          "model_name": "FloatProgressModel",
          "state": {
            "_view_name": "ProgressView",
            "style": "IPY_MODEL_de3af5f63308474982c7b74ae512e0a4",
            "_dom_classes": [],
            "description": "",
            "_model_name": "FloatProgressModel",
            "bar_style": "success",
            "max": 1,
            "_view_module": "@jupyter-widgets/controls",
            "_model_module_version": "1.5.0",
            "value": 1,
            "_view_count": null,
            "_view_module_version": "1.5.0",
            "orientation": "horizontal",
            "min": 0,
            "description_tooltip": null,
            "_model_module": "@jupyter-widgets/controls",
            "layout": "IPY_MODEL_10b1c35583ee4a90ae587b28450f60aa"
          }
        },
        "d14b1c1d50364fbe8d2b8b3b64ff292b": {
          "model_module": "@jupyter-widgets/controls",
          "model_name": "HTMLModel",
          "state": {
            "_view_name": "HTMLView",
            "style": "IPY_MODEL_bb36e667a8a4483194573c69bd7e290b",
            "_dom_classes": [],
            "description": "",
            "_model_name": "HTMLModel",
            "placeholder": "​",
            "_view_module": "@jupyter-widgets/controls",
            "_model_module_version": "1.5.0",
            "value": " 400000/? [00:46&lt;00:00, 8547.39it/s]",
            "_view_count": null,
            "_view_module_version": "1.5.0",
            "description_tooltip": null,
            "_model_module": "@jupyter-widgets/controls",
            "layout": "IPY_MODEL_cc9f388612ba412781f6873312399e8a"
          }
        },
        "de3af5f63308474982c7b74ae512e0a4": {
          "model_module": "@jupyter-widgets/controls",
          "model_name": "ProgressStyleModel",
          "state": {
            "_view_name": "StyleView",
            "_model_name": "ProgressStyleModel",
            "description_width": "initial",
            "_view_module": "@jupyter-widgets/base",
            "_model_module_version": "1.5.0",
            "_view_count": null,
            "_view_module_version": "1.2.0",
            "bar_color": null,
            "_model_module": "@jupyter-widgets/controls"
          }
        },
        "10b1c35583ee4a90ae587b28450f60aa": {
          "model_module": "@jupyter-widgets/base",
          "model_name": "LayoutModel",
          "state": {
            "_view_name": "LayoutView",
            "grid_template_rows": null,
            "right": null,
            "justify_content": null,
            "_view_module": "@jupyter-widgets/base",
            "overflow": null,
            "_model_module_version": "1.2.0",
            "_view_count": null,
            "flex_flow": null,
            "width": null,
            "min_width": null,
            "border": null,
            "align_items": null,
            "bottom": null,
            "_model_module": "@jupyter-widgets/base",
            "top": null,
            "grid_column": null,
            "overflow_y": null,
            "overflow_x": null,
            "grid_auto_flow": null,
            "grid_area": null,
            "grid_template_columns": null,
            "flex": null,
            "_model_name": "LayoutModel",
            "justify_items": null,
            "grid_row": null,
            "max_height": null,
            "align_content": null,
            "visibility": null,
            "align_self": null,
            "height": null,
            "min_height": null,
            "padding": null,
            "grid_auto_rows": null,
            "grid_gap": null,
            "max_width": null,
            "order": null,
            "_view_module_version": "1.2.0",
            "grid_template_areas": null,
            "object_position": null,
            "object_fit": null,
            "grid_auto_columns": null,
            "margin": null,
            "display": null,
            "left": null
          }
        },
        "bb36e667a8a4483194573c69bd7e290b": {
          "model_module": "@jupyter-widgets/controls",
          "model_name": "DescriptionStyleModel",
          "state": {
            "_view_name": "StyleView",
            "_model_name": "DescriptionStyleModel",
            "description_width": "",
            "_view_module": "@jupyter-widgets/base",
            "_model_module_version": "1.5.0",
            "_view_count": null,
            "_view_module_version": "1.2.0",
            "_model_module": "@jupyter-widgets/controls"
          }
        },
        "cc9f388612ba412781f6873312399e8a": {
          "model_module": "@jupyter-widgets/base",
          "model_name": "LayoutModel",
          "state": {
            "_view_name": "LayoutView",
            "grid_template_rows": null,
            "right": null,
            "justify_content": null,
            "_view_module": "@jupyter-widgets/base",
            "overflow": null,
            "_model_module_version": "1.2.0",
            "_view_count": null,
            "flex_flow": null,
            "width": null,
            "min_width": null,
            "border": null,
            "align_items": null,
            "bottom": null,
            "_model_module": "@jupyter-widgets/base",
            "top": null,
            "grid_column": null,
            "overflow_y": null,
            "overflow_x": null,
            "grid_auto_flow": null,
            "grid_area": null,
            "grid_template_columns": null,
            "flex": null,
            "_model_name": "LayoutModel",
            "justify_items": null,
            "grid_row": null,
            "max_height": null,
            "align_content": null,
            "visibility": null,
            "align_self": null,
            "height": null,
            "min_height": null,
            "padding": null,
            "grid_auto_rows": null,
            "grid_gap": null,
            "max_width": null,
            "order": null,
            "_view_module_version": "1.2.0",
            "grid_template_areas": null,
            "object_position": null,
            "object_fit": null,
            "grid_auto_columns": null,
            "margin": null,
            "display": null,
            "left": null
          }
        }
      }
    }
  },
  "cells": [
    {
      "cell_type": "code",
      "metadata": {
        "id": "0myiv6YvwUPA",
        "colab": {
          "base_uri": "https://localhost:8080/"
        },
        "outputId": "82823333-96dc-4839-fca9-7ba3f35953ef"
      },
      "source": [
        "from tensorflow.python.client import device_lib\n",
        "device_lib.list_local_devices()"
      ],
      "execution_count": 4,
      "outputs": [
        {
          "output_type": "execute_result",
          "data": {
            "text/plain": [
              "[name: \"/device:CPU:0\"\n",
              " device_type: \"CPU\"\n",
              " memory_limit: 268435456\n",
              " locality {\n",
              " }\n",
              " incarnation: 14902663925190077542, name: \"/device:XLA_CPU:0\"\n",
              " device_type: \"XLA_CPU\"\n",
              " memory_limit: 17179869184\n",
              " locality {\n",
              " }\n",
              " incarnation: 6469068771336177425\n",
              " physical_device_desc: \"device: XLA_CPU device\", name: \"/device:XLA_GPU:0\"\n",
              " device_type: \"XLA_GPU\"\n",
              " memory_limit: 17179869184\n",
              " locality {\n",
              " }\n",
              " incarnation: 7856567295915022639\n",
              " physical_device_desc: \"device: XLA_GPU device\", name: \"/device:GPU:0\"\n",
              " device_type: \"GPU\"\n",
              " memory_limit: 14640891840\n",
              " locality {\n",
              "   bus_id: 1\n",
              "   links {\n",
              "   }\n",
              " }\n",
              " incarnation: 16970585200559937455\n",
              " physical_device_desc: \"device: 0, name: Tesla T4, pci bus id: 0000:00:04.0, compute capability: 7.5\"]"
            ]
          },
          "metadata": {
            "tags": []
          },
          "execution_count": 4
        }
      ]
    },
    {
      "cell_type": "code",
      "metadata": {
        "id": "5LaoVQRemiWy",
        "colab": {
          "base_uri": "https://localhost:8080/",
          "height": 1000
        },
        "outputId": "c7fec7bf-4e63-4861-9b35-668a144914ad"
      },
      "source": [
        "!pip install tensorflow==2.2.0"
      ],
      "execution_count": 6,
      "outputs": [
        {
          "output_type": "stream",
          "text": [
            "Collecting tensorflow==2.2.0\n",
            "\u001b[?25l  Downloading https://files.pythonhosted.org/packages/3d/be/679ce5254a8c8d07470efb4a4c00345fae91f766e64f1c2aece8796d7218/tensorflow-2.2.0-cp36-cp36m-manylinux2010_x86_64.whl (516.2MB)\n",
            "\u001b[K     |████████████████████████████████| 516.2MB 32kB/s \n",
            "\u001b[?25hRequirement already satisfied: protobuf>=3.8.0 in /usr/local/lib/python3.6/dist-packages (from tensorflow==2.2.0) (3.12.4)\n",
            "Requirement already satisfied: six>=1.12.0 in /usr/local/lib/python3.6/dist-packages (from tensorflow==2.2.0) (1.15.0)\n",
            "Requirement already satisfied: keras-preprocessing>=1.1.0 in /usr/local/lib/python3.6/dist-packages (from tensorflow==2.2.0) (1.1.2)\n",
            "Collecting tensorflow-estimator<2.3.0,>=2.2.0\n",
            "\u001b[?25l  Downloading https://files.pythonhosted.org/packages/a4/f5/926ae53d6a226ec0fda5208e0e581cffed895ccc89e36ba76a8e60895b78/tensorflow_estimator-2.2.0-py2.py3-none-any.whl (454kB)\n",
            "\u001b[K     |████████████████████████████████| 460kB 34kB/s \n",
            "\u001b[?25hRequirement already satisfied: astunparse==1.6.3 in /usr/local/lib/python3.6/dist-packages (from tensorflow==2.2.0) (1.6.3)\n",
            "Requirement already satisfied: wrapt>=1.11.1 in /usr/local/lib/python3.6/dist-packages (from tensorflow==2.2.0) (1.12.1)\n",
            "Requirement already satisfied: numpy<2.0,>=1.16.0 in /usr/local/lib/python3.6/dist-packages (from tensorflow==2.2.0) (1.18.5)\n",
            "Requirement already satisfied: google-pasta>=0.1.8 in /usr/local/lib/python3.6/dist-packages (from tensorflow==2.2.0) (0.2.0)\n",
            "Requirement already satisfied: wheel>=0.26; python_version >= \"3\" in /usr/local/lib/python3.6/dist-packages (from tensorflow==2.2.0) (0.35.1)\n",
            "Requirement already satisfied: termcolor>=1.1.0 in /usr/local/lib/python3.6/dist-packages (from tensorflow==2.2.0) (1.1.0)\n",
            "Requirement already satisfied: h5py<2.11.0,>=2.10.0 in /usr/local/lib/python3.6/dist-packages (from tensorflow==2.2.0) (2.10.0)\n",
            "Requirement already satisfied: scipy==1.4.1; python_version >= \"3\" in /usr/local/lib/python3.6/dist-packages (from tensorflow==2.2.0) (1.4.1)\n",
            "Requirement already satisfied: grpcio>=1.8.6 in /usr/local/lib/python3.6/dist-packages (from tensorflow==2.2.0) (1.33.2)\n",
            "Collecting tensorboard<2.3.0,>=2.2.0\n",
            "\u001b[?25l  Downloading https://files.pythonhosted.org/packages/1d/74/0a6fcb206dcc72a6da9a62dd81784bfdbff5fedb099982861dc2219014fb/tensorboard-2.2.2-py3-none-any.whl (3.0MB)\n",
            "\u001b[K     |████████████████████████████████| 3.0MB 56.4MB/s \n",
            "\u001b[?25hRequirement already satisfied: absl-py>=0.7.0 in /usr/local/lib/python3.6/dist-packages (from tensorflow==2.2.0) (0.10.0)\n",
            "Requirement already satisfied: opt-einsum>=2.3.2 in /usr/local/lib/python3.6/dist-packages (from tensorflow==2.2.0) (3.3.0)\n",
            "Collecting gast==0.3.3\n",
            "  Downloading https://files.pythonhosted.org/packages/d6/84/759f5dd23fec8ba71952d97bcc7e2c9d7d63bdc582421f3cd4be845f0c98/gast-0.3.3-py2.py3-none-any.whl\n",
            "Requirement already satisfied: setuptools in /usr/local/lib/python3.6/dist-packages (from protobuf>=3.8.0->tensorflow==2.2.0) (50.3.2)\n",
            "Requirement already satisfied: markdown>=2.6.8 in /usr/local/lib/python3.6/dist-packages (from tensorboard<2.3.0,>=2.2.0->tensorflow==2.2.0) (3.3.3)\n",
            "Requirement already satisfied: requests<3,>=2.21.0 in /usr/local/lib/python3.6/dist-packages (from tensorboard<2.3.0,>=2.2.0->tensorflow==2.2.0) (2.23.0)\n",
            "Requirement already satisfied: werkzeug>=0.11.15 in /usr/local/lib/python3.6/dist-packages (from tensorboard<2.3.0,>=2.2.0->tensorflow==2.2.0) (1.0.1)\n",
            "Requirement already satisfied: google-auth<2,>=1.6.3 in /usr/local/lib/python3.6/dist-packages (from tensorboard<2.3.0,>=2.2.0->tensorflow==2.2.0) (1.17.2)\n",
            "Requirement already satisfied: tensorboard-plugin-wit>=1.6.0 in /usr/local/lib/python3.6/dist-packages (from tensorboard<2.3.0,>=2.2.0->tensorflow==2.2.0) (1.7.0)\n",
            "Requirement already satisfied: google-auth-oauthlib<0.5,>=0.4.1 in /usr/local/lib/python3.6/dist-packages (from tensorboard<2.3.0,>=2.2.0->tensorflow==2.2.0) (0.4.2)\n",
            "Requirement already satisfied: importlib-metadata; python_version < \"3.8\" in /usr/local/lib/python3.6/dist-packages (from markdown>=2.6.8->tensorboard<2.3.0,>=2.2.0->tensorflow==2.2.0) (2.0.0)\n",
            "Requirement already satisfied: certifi>=2017.4.17 in /usr/local/lib/python3.6/dist-packages (from requests<3,>=2.21.0->tensorboard<2.3.0,>=2.2.0->tensorflow==2.2.0) (2020.11.8)\n",
            "Requirement already satisfied: chardet<4,>=3.0.2 in /usr/local/lib/python3.6/dist-packages (from requests<3,>=2.21.0->tensorboard<2.3.0,>=2.2.0->tensorflow==2.2.0) (3.0.4)\n",
            "Requirement already satisfied: idna<3,>=2.5 in /usr/local/lib/python3.6/dist-packages (from requests<3,>=2.21.0->tensorboard<2.3.0,>=2.2.0->tensorflow==2.2.0) (2.10)\n",
            "Requirement already satisfied: urllib3!=1.25.0,!=1.25.1,<1.26,>=1.21.1 in /usr/local/lib/python3.6/dist-packages (from requests<3,>=2.21.0->tensorboard<2.3.0,>=2.2.0->tensorflow==2.2.0) (1.24.3)\n",
            "Requirement already satisfied: pyasn1-modules>=0.2.1 in /usr/local/lib/python3.6/dist-packages (from google-auth<2,>=1.6.3->tensorboard<2.3.0,>=2.2.0->tensorflow==2.2.0) (0.2.8)\n",
            "Requirement already satisfied: rsa<5,>=3.1.4; python_version >= \"3\" in /usr/local/lib/python3.6/dist-packages (from google-auth<2,>=1.6.3->tensorboard<2.3.0,>=2.2.0->tensorflow==2.2.0) (4.6)\n",
            "Requirement already satisfied: cachetools<5.0,>=2.0.0 in /usr/local/lib/python3.6/dist-packages (from google-auth<2,>=1.6.3->tensorboard<2.3.0,>=2.2.0->tensorflow==2.2.0) (4.1.1)\n",
            "Requirement already satisfied: requests-oauthlib>=0.7.0 in /usr/local/lib/python3.6/dist-packages (from google-auth-oauthlib<0.5,>=0.4.1->tensorboard<2.3.0,>=2.2.0->tensorflow==2.2.0) (1.3.0)\n",
            "Requirement already satisfied: zipp>=0.5 in /usr/local/lib/python3.6/dist-packages (from importlib-metadata; python_version < \"3.8\"->markdown>=2.6.8->tensorboard<2.3.0,>=2.2.0->tensorflow==2.2.0) (3.4.0)\n",
            "Requirement already satisfied: pyasn1<0.5.0,>=0.4.6 in /usr/local/lib/python3.6/dist-packages (from pyasn1-modules>=0.2.1->google-auth<2,>=1.6.3->tensorboard<2.3.0,>=2.2.0->tensorflow==2.2.0) (0.4.8)\n",
            "Requirement already satisfied: oauthlib>=3.0.0 in /usr/local/lib/python3.6/dist-packages (from requests-oauthlib>=0.7.0->google-auth-oauthlib<0.5,>=0.4.1->tensorboard<2.3.0,>=2.2.0->tensorflow==2.2.0) (3.1.0)\n",
            "Installing collected packages: tensorflow-estimator, tensorboard, gast, tensorflow\n",
            "  Found existing installation: tensorflow-estimator 2.1.0\n",
            "    Uninstalling tensorflow-estimator-2.1.0:\n",
            "      Successfully uninstalled tensorflow-estimator-2.1.0\n",
            "  Found existing installation: tensorboard 2.1.1\n",
            "    Uninstalling tensorboard-2.1.1:\n",
            "      Successfully uninstalled tensorboard-2.1.1\n",
            "  Found existing installation: gast 0.2.2\n",
            "    Uninstalling gast-0.2.2:\n",
            "      Successfully uninstalled gast-0.2.2\n",
            "  Found existing installation: tensorflow 2.1.0\n",
            "    Uninstalling tensorflow-2.1.0:\n",
            "      Successfully uninstalled tensorflow-2.1.0\n",
            "Successfully installed gast-0.3.3 tensorboard-2.2.2 tensorflow-2.2.0 tensorflow-estimator-2.2.0\n"
          ],
          "name": "stdout"
        },
        {
          "output_type": "display_data",
          "data": {
            "application/vnd.colab-display-data+json": {
              "pip_warning": {
                "packages": [
                  "gast",
                  "tensorboard",
                  "tensorflow",
                  "tensorflow_estimator"
                ]
              }
            }
          },
          "metadata": {
            "tags": []
          }
        }
      ]
    },
    {
      "cell_type": "code",
      "metadata": {
        "id": "FQzyb_n0OfrP",
        "colab": {
          "base_uri": "https://localhost:8080/"
        },
        "outputId": "fe189723-d177-4dcc-ea30-c17dff99a322"
      },
      "source": [
        "import tensorflow as tf\n",
        "print(tf.version)"
      ],
      "execution_count": 1,
      "outputs": [
        {
          "output_type": "stream",
          "text": [
            "<module 'tensorflow._api.v2.version' from '/usr/local/lib/python3.6/dist-packages/tensorflow/_api/v2/version/__init__.py'>\n"
          ],
          "name": "stdout"
        }
      ]
    },
    {
      "cell_type": "markdown",
      "metadata": {
        "id": "f6fVkD2i0sdZ"
      },
      "source": [
        "#LIBRARY"
      ]
    },
    {
      "cell_type": "code",
      "metadata": {
        "id": "TzrQ6-udwxla"
      },
      "source": [
        "from sklearn.feature_extraction.text import CountVectorizer\n",
        "from sklearn.feature_extraction.text import TfidfTransformer\n",
        "from sklearn.feature_extraction.text import TfidfVectorizer\n",
        "from sklearn.feature_extraction.text import CountVectorizer\n",
        "from sklearn.preprocessing import OneHotEncoder\n",
        "# Keras\n",
        "import tensorflow as tf\n",
        "import tensorflow.keras as keras\n",
        "from tensorflow.keras.preprocessing.text import Tokenizer\n",
        "from tensorflow.keras.preprocessing.sequence import pad_sequences\n",
        "from tensorflow.keras.models import Sequential\n",
        "from tensorflow.keras.layers import Dense, Flatten, LSTM, Conv1D, GlobalMaxPooling1D, Dropout, Activation, GRU, Bidirectional, MaxPooling1D\n",
        "from tensorflow.keras.layers import Embedding\n",
        "# NLTK\n",
        "import nltk\n",
        "from nltk.corpus import stopwords\n",
        "from itertools import product\n",
        "# Other\n",
        "import numpy as np\n",
        "import pandas as pd\n",
        "import pickle\n",
        "import re\n",
        "import string\n",
        "import math\n",
        "import pandas as pd\n",
        "from keras.utils import plot_model"
      ],
      "execution_count": 2,
      "outputs": []
    },
    {
      "cell_type": "markdown",
      "metadata": {
        "id": "COHB_IXM06fo"
      },
      "source": [
        "#LOAD DATA AND PROCESSING"
      ]
    },
    {
      "cell_type": "code",
      "metadata": {
        "id": "mnWXAx7-xT87"
      },
      "source": [
        "stop = [\"a\", \"about\", \"above\", \"above\", \"across\", \"after\", \"afterwards\", \"again\", \"against\", \"all\", \"almost\", \"alone\", \"along\", \"already\", \"also\",\"although\",\"always\",\"am\",\"among\", \"amongst\", \"amoungst\", \"amount\",  \"an\", \"and\", \"another\", \"any\",\"anyhow\",\"anyone\",\"anything\",\"anyway\", \"anywhere\", \"are\", \"around\", \"as\",  \"at\", \"back\",\"be\",\"became\", \"because\",\"become\",\"becomes\", \"becoming\", \"been\", \"before\", \"beforehand\", \"behind\", \"being\", \"below\", \"beside\", \"besides\", \"between\", \"beyond\", \"bill\", \"both\", \"bottom\",\"but\", \"by\", \"call\", \"can\", \"cannot\", \"cant\", \"co\", \"con\", \"could\", \"couldnt\", \"cry\", \"de\", \"describe\", \"detail\", \"do\", \"done\", \"down\", \"due\", \"during\", \"each\", \"eg\", \"eight\", \"either\", \"eleven\",\"else\", \"elsewhere\", \"empty\", \"enough\", \"etc\", \"even\", \"ever\", \"every\", \"everyone\", \"everything\", \"everywhere\", \"except\", \"few\", \"fifteen\", \"fify\", \"fill\", \"find\", \"fire\", \"first\", \"five\", \"for\", \"former\", \"formerly\", \"forty\", \"found\", \"four\", \"from\", \"front\", \"full\", \"further\", \"get\", \"give\", \"go\", \"had\", \"has\", \"hasnt\", \"have\", \"he\", \"hence\", \"her\", \"here\", \"hereafter\", \"hereby\", \"herein\", \"hereupon\", \"hers\", \"herself\", \"him\", \"himself\", \"his\", \"how\", \"however\", \"hundred\", \"ie\", \"if\", \"in\", \"inc\", \"indeed\", \"interest\", \"into\", \"is\", \"isnt\", \"it\", \"its\", \"itself\", \"keep\", \"keeps\", \"kept\", \"last\", \"latter\", \"latterly\", \"least\", \"less\", \"ltd\", \"made\", \"many\", \"may\", \"me\", \"meanwhile\", \"might\", \"mill\", \"mine\", \"more\", \"moreover\", \"most\", \"mostly\", \"move\", \"much\", \"must\", \"my\", \"myself\", \"name\", \"names\", \"named\", \"namely\", \"neither\", \"never\", \"nevertheless\", \"next\", \"nine\", \"no\", \"nobody\", \"none\", \"noone\", \"nor\", \"not\", \"nothing\", \"now\", \"nowhere\", \"of\", \"off\", \"often\", \"ok\", \"on\", \"once\", \"one\", \"only\", \"onto\", \"or\", \"other\", \"others\", \"otherwise\", \"our\", \"ours\", \"ourselves\", \"out\", \"over\", \"own\",\"part\", \"per\", \"perhaps\", \"please\", \"put\", \"puts\", \"rather\", \"re\", \"same\", \"see\", \"seem\", \"seemed\", \"seeming\", \"seems\", \"sees\", \"serious\", \"several\", \"she\", \"should\", \"show\", \"shows\", \"showed\", \"side\", \"since\", \"sincere\", \"six\", \"sixty\", \"so\", \"some\", \"somehow\", \"someone\", \"something\", \"sometime\", \"sometimes\", \"somewhere\", \"still\", \"such\", \"system\", \"take\", \"ten\", \"than\", \"that\", \"the\", \"their\", \"them\", \"themselves\", \"then\", \"thence\", \"there\", \"thereafter\", \"thereby\", \"therefore\", \"therein\", \"thereupon\", \"these\", \"they\", \"thickv\", \"thin\", \"third\", \"this\", \"those\", \"though\", \"three\", \"through\", \"throughout\", \"thru\", \"thus\", \"to\", \"together\", \"too\", \"top\", \"toward\", \"towards\", \"twelve\", \"twenty\", \"two\", \"un\", \"under\", \"until\", \"up\", \"upon\", \"us\", \"very\", \"via\", \"was\", \"we\", \"well\", \"were\", \"what\", \"whatever\", \"when\", \"whence\", \"whenever\", \"where\", \"whereafter\", \"whereas\", \"whereby\", \"wherein\", \"whereupon\", \"wherever\", \"whether\", \"which\", \"while\", \"whither\", \"who\", \"whoever\", \"whole\", \"whom\", \"whose\", \"why\", \"will\", \"with\", \"within\", \"without\", \"would\", \"yet\", \"you\", \"your\", \"yours\", \"yourself\", \"yourselves\", \"the\", \"b\", \"c\", \"d\", \"e\", \"f\", \"g\", \"h\", \"i\", \"j\", \"k\", \"l\", \"m\", \"n\", \"o\", \"p\", \"q\", \"r\", \"s\", \"t\", \"u\", \"v\", \"w\", \"x\", \"y\", \"z\"]"
      ],
      "execution_count": 3,
      "outputs": []
    },
    {
      "cell_type": "code",
      "metadata": {
        "id": "9pE2qGz10ZUT",
        "colab": {
          "base_uri": "https://localhost:8080/"
        },
        "outputId": "3e6b4b5a-6f34-4c6f-986f-b63dac3dd808"
      },
      "source": [
        "# Pre-processing function\n",
        "nltk.download('stopwords')\n",
        "stop_words = set(stopwords.words('english')) \n",
        "from nltk.stem import PorterStemmer\n",
        "st = PorterStemmer()\n",
        "\n",
        "# Pre-processing function\n",
        "nltk.download('stopwords')\n",
        "stop_words = set(stopwords.words('english')) \n",
        "\n",
        "def preprocess_abstract(text):\n",
        "    text = re.sub(\"[-]+\", \" \", text)\n",
        "    text=text.lower()\n",
        "    text = re.sub(\"\\d+\", \"\", text)\n",
        "    text = re.sub(\"[^\\w]\", \" \", text)\n",
        "\n",
        "    filtered_sentence = [] \n",
        "    for w in text.split(\" \"): \n",
        "        if w not in stop: \n",
        "            filtered_sentence.append(w)\n",
        "    return \" \".join(filtered_sentence)\n",
        "    # return text\n",
        "    \n",
        "def preprocess_keywords(text):\n",
        "    if type(text)==str:\n",
        "        text=text.lower()\n",
        "        text = re.sub(\"\\d+\", \"\", text)\n",
        "        text = re.sub(\"[^\\w]\", \" \", text)\n",
        "        text=\" \".join(text.split())\n",
        "    return text\n",
        "\n"
      ],
      "execution_count": 4,
      "outputs": [
        {
          "output_type": "stream",
          "text": [
            "[nltk_data] Downloading package stopwords to /root/nltk_data...\n",
            "[nltk_data]   Package stopwords is already up-to-date!\n",
            "[nltk_data] Downloading package stopwords to /root/nltk_data...\n",
            "[nltk_data]   Package stopwords is already up-to-date!\n"
          ],
          "name": "stdout"
        }
      ]
    },
    {
      "cell_type": "code",
      "metadata": {
        "id": "tygCRtSm0bl5"
      },
      "source": [
        "field = [\"Key\"]\n",
        "\n",
        "# Preprocessing for train\n",
        "df_train=pd.read_csv('https://raw.githubusercontent.com/huynhthanh98/Winter-School-2020/main/re_data.csv', encoding = \"ISO-8859-1\")\n",
        "df_train = df_train.iloc[df_train[field].dropna().index, :]\n",
        "df_train[\"Abstract1\"] = df_train[\"Abstract\"].map(preprocess_abstract)\n",
        "df_train[\"Title1\"] = df_train[\"Title\"].map(preprocess_abstract)\n",
        "df_train[\"Key1\"] = df_train[\"Key\"].map(preprocess_keywords)\n",
        "    \n",
        "\n",
        "# Preprocessing for test data\n",
        "df_test=pd.read_csv('https://raw.githubusercontent.com/huynhthanh98/Winter-School-2020/main/re_data_test.csv', encoding = \"ISO-8859-1\")\n",
        "df_test = df_test.iloc[df_test[field].dropna().index, :]\n",
        "df_test[\"Abstract\"] = df_test[\"Abstract\"].map(preprocess_abstract)\n",
        "df_test[\"Title\"] = df_test[\"Title\"].map(preprocess_abstract)\n",
        "df_test[\"Key\"] = df_test[\"Key\"].map(preprocess_keywords)"
      ],
      "execution_count": 5,
      "outputs": []
    },
    {
      "cell_type": "code",
      "metadata": {
        "id": "LSMXynR87T93",
        "colab": {
          "base_uri": "https://localhost:8080/",
          "height": 687
        },
        "outputId": "59c7c8e5-17b8-44d6-b018-d26b0e5540a9"
      },
      "source": [
        "df_test"
      ],
      "execution_count": 6,
      "outputs": [
        {
          "output_type": "execute_result",
          "data": {
            "text/html": [
              "<div>\n",
              "<style scoped>\n",
              "    .dataframe tbody tr th:only-of-type {\n",
              "        vertical-align: middle;\n",
              "    }\n",
              "\n",
              "    .dataframe tbody tr th {\n",
              "        vertical-align: top;\n",
              "    }\n",
              "\n",
              "    .dataframe thead th {\n",
              "        text-align: right;\n",
              "    }\n",
              "</style>\n",
              "<table border=\"1\" class=\"dataframe\">\n",
              "  <thead>\n",
              "    <tr style=\"text-align: right;\">\n",
              "      <th></th>\n",
              "      <th>ID</th>\n",
              "      <th>Title</th>\n",
              "      <th>Abstract</th>\n",
              "      <th>KeyWord</th>\n",
              "      <th>ConferenceID</th>\n",
              "      <th>Key</th>\n",
              "      <th>category</th>\n",
              "      <th>abbr</th>\n",
              "    </tr>\n",
              "  </thead>\n",
              "  <tbody>\n",
              "    <tr>\n",
              "      <th>0</th>\n",
              "      <td>3</td>\n",
              "      <td>covert ephemeral communication data networking</td>\n",
              "      <td>recent years  growing belief current ip based ...</td>\n",
              "      <td>NaN</td>\n",
              "      <td>60</td>\n",
              "      <td>security and privacy network security</td>\n",
              "      <td>ACM Conference on Computer and Communications ...</td>\n",
              "      <td>CCS</td>\n",
              "    </tr>\n",
              "    <tr>\n",
              "      <th>1</th>\n",
              "      <td>6</td>\n",
              "      <td>automated protocol reverse engineering using s...</td>\n",
              "      <td>network security products  nids application fi...</td>\n",
              "      <td>NaN</td>\n",
              "      <td>60</td>\n",
              "      <td>networks network protocols software and its en...</td>\n",
              "      <td>ACM Conference on Computer and Communications ...</td>\n",
              "      <td>CCS</td>\n",
              "    </tr>\n",
              "    <tr>\n",
              "      <th>2</th>\n",
              "      <td>9</td>\n",
              "      <td>otit  secure provenance modeling location proofs</td>\n",
              "      <td>personal mobile devices location based service...</td>\n",
              "      <td>NaN</td>\n",
              "      <td>60</td>\n",
              "      <td>security and privacy</td>\n",
              "      <td>ACM Conference on Computer and Communications ...</td>\n",
              "      <td>CCS</td>\n",
              "    </tr>\n",
              "    <tr>\n",
              "      <th>3</th>\n",
              "      <td>12</td>\n",
              "      <td>privacy outsourced means clustering</td>\n",
              "      <td>attractive organization outsource data analyti...</td>\n",
              "      <td>NaN</td>\n",
              "      <td>60</td>\n",
              "      <td>information systems data management systems da...</td>\n",
              "      <td>ACM Conference on Computer and Communications ...</td>\n",
              "      <td>CCS</td>\n",
              "    </tr>\n",
              "    <tr>\n",
              "      <th>4</th>\n",
              "      <td>15</td>\n",
              "      <td>differential privacy     neighbourhood spatial...</td>\n",
              "      <td>differential privacy provides strong guarantee...</td>\n",
              "      <td>NaN</td>\n",
              "      <td>60</td>\n",
              "      <td>information systems information systems applic...</td>\n",
              "      <td>ACM Conference on Computer and Communications ...</td>\n",
              "      <td>CCS</td>\n",
              "    </tr>\n",
              "    <tr>\n",
              "      <th>...</th>\n",
              "      <td>...</td>\n",
              "      <td>...</td>\n",
              "      <td>...</td>\n",
              "      <td>...</td>\n",
              "      <td>...</td>\n",
              "      <td>...</td>\n",
              "      <td>...</td>\n",
              "      <td>...</td>\n",
              "    </tr>\n",
              "    <tr>\n",
              "      <th>4660</th>\n",
              "      <td>14385</td>\n",
              "      <td>linear fitted iteration multiple reward functions</td>\n",
              "      <td>present general detailed development algorithm...</td>\n",
              "      <td>NaN</td>\n",
              "      <td>37</td>\n",
              "      <td>reinforcement learning dynamic programming dec...</td>\n",
              "      <td>Journal of Machine Learning Research</td>\n",
              "      <td>JMLR</td>\n",
              "    </tr>\n",
              "    <tr>\n",
              "      <th>4661</th>\n",
              "      <td>14388</td>\n",
              "      <td>sparse unique nonnegative matrix factorization...</td>\n",
              "      <td>nonnegative matrix factorization  nmf  popular...</td>\n",
              "      <td>NaN</td>\n",
              "      <td>37</td>\n",
              "      <td>nonnegative matrix factorization data preproce...</td>\n",
              "      <td>Journal of Machine Learning Research</td>\n",
              "      <td>JMLR</td>\n",
              "    </tr>\n",
              "    <tr>\n",
              "      <th>4662</th>\n",
              "      <td>14391</td>\n",
              "      <td>fast approximation matrix coherence statistica...</td>\n",
              "      <td>statistical leverage scores   matrix    squar...</td>\n",
              "      <td>NaN</td>\n",
              "      <td>37</td>\n",
              "      <td>matrix coherence statistical leverage randomiz...</td>\n",
              "      <td>Journal of Machine Learning Research</td>\n",
              "      <td>JMLR</td>\n",
              "    </tr>\n",
              "    <tr>\n",
              "      <th>4663</th>\n",
              "      <td>14394</td>\n",
              "      <td>regularized bundle methods convex non convex r...</td>\n",
              "      <td>machine learning cast optimization problem  id...</td>\n",
              "      <td>NaN</td>\n",
              "      <td>37</td>\n",
              "      <td>optimization non convex non smooth cutting pla...</td>\n",
              "      <td>Journal of Machine Learning Research</td>\n",
              "      <td>JMLR</td>\n",
              "    </tr>\n",
              "    <tr>\n",
              "      <th>4664</th>\n",
              "      <td>14397</td>\n",
              "      <td>smoothing multivariate performance measures</td>\n",
              "      <td>optimizing multivariate performance measure im...</td>\n",
              "      <td>NaN</td>\n",
              "      <td>37</td>\n",
              "      <td>non smooth optimization max margin methods mul...</td>\n",
              "      <td>Journal of Machine Learning Research</td>\n",
              "      <td>JMLR</td>\n",
              "    </tr>\n",
              "  </tbody>\n",
              "</table>\n",
              "<p>4453 rows × 8 columns</p>\n",
              "</div>"
            ],
            "text/plain": [
              "         ID  ...  abbr\n",
              "0         3  ...   CCS\n",
              "1         6  ...   CCS\n",
              "2         9  ...   CCS\n",
              "3        12  ...   CCS\n",
              "4        15  ...   CCS\n",
              "...     ...  ...   ...\n",
              "4660  14385  ...  JMLR\n",
              "4661  14388  ...  JMLR\n",
              "4662  14391  ...  JMLR\n",
              "4663  14394  ...  JMLR\n",
              "4664  14397  ...  JMLR\n",
              "\n",
              "[4453 rows x 8 columns]"
            ]
          },
          "metadata": {
            "tags": []
          },
          "execution_count": 6
        }
      ]
    },
    {
      "cell_type": "markdown",
      "metadata": {
        "id": "owmam7z6pkuj"
      },
      "source": [
        "Chạy lại từng feature thì từ bước này"
      ]
    },
    {
      "cell_type": "code",
      "metadata": {
        "id": "3612Oyyg6pO-"
      },
      "source": [
        "df_train[\"content\"] = df_train[\"Abstract\"] + \" \" + df_train[\"Key\"]  + \" \" + df_train[\"Title\"]\n",
        "df_test[\"content\"] = df_test[\"Abstract\"] + \" \" + df_test[\"Key\"] + \" \" + df_test[\"Title\"]\n",
        "#chọn features cần dùng\n",
        "#df_train[\"content\"] = df_train[\"Title\"]\n",
        "#df_test[\"content\"] = df_test[\"Title\"]"
      ],
      "execution_count": 7,
      "outputs": []
    },
    {
      "cell_type": "code",
      "metadata": {
        "id": "3-e2y9Kp3WyQ"
      },
      "source": [
        "vocabulary_size = 50000\n",
        "tokenizer = Tokenizer(num_words=vocabulary_size)\n",
        "tokenizer.fit_on_texts(df_train[\"content\"])\n",
        "# Tokenize\n",
        "sequences = tokenizer.texts_to_sequences(df_train[\"content\"])\n",
        "data = pad_sequences(sequences)\n",
        "\n",
        "sequences = tokenizer.texts_to_sequences(df_test[\"content\"])\n",
        "data_test = pad_sequences(sequences, maxlen=len(data[0]))\n",
        "\n",
        "# saving\n",
        "with open('tokenizer_Feature.pickle', 'wb') as handle:\n",
        "    pickle.dump(tokenizer, handle, protocol=pickle.HIGHEST_PROTOCOL)"
      ],
      "execution_count": 8,
      "outputs": []
    },
    {
      "cell_type": "code",
      "metadata": {
        "id": "zUls1HLC6nHq"
      },
      "source": [
        "labels1 = {label:index for \n",
        "index, label in enumerate(df_train.loc[:, \"category\"].unique())}\n",
        "y_train1 = [labels1[value] for index, value in df_train.loc[:, 'category'].iteritems()]\n",
        "y_test1 = [labels1[value] for index, value in df_test.loc[:, 'category'].iteritems()]"
      ],
      "execution_count": 9,
      "outputs": []
    },
    {
      "cell_type": "code",
      "metadata": {
        "id": "Y76yWiYvM-lR"
      },
      "source": [
        ""
      ],
      "execution_count": 9,
      "outputs": []
    },
    {
      "cell_type": "code",
      "metadata": {
        "id": "QErCJTTz6xHB"
      },
      "source": [
        "onehot_encoder = OneHotEncoder(sparse=False)\n",
        "\n",
        "train_y = np.array(y_train1)\n",
        "train_y = onehot_encoder.fit_transform(train_y.reshape(len(train_y), 1))\n",
        "\n",
        "test_y = np.array(y_test1)\n",
        "test_y = onehot_encoder.transform(test_y.reshape(len(test_y), 1))"
      ],
      "execution_count": 10,
      "outputs": []
    },
    {
      "cell_type": "markdown",
      "metadata": {
        "id": "vIw6gzbOQIcj"
      },
      "source": [
        "#Glove embedding"
      ]
    },
    {
      "cell_type": "code",
      "metadata": {
        "id": "cydZ97dHwEoF",
        "colab": {
          "base_uri": "https://localhost:8080/"
        },
        "outputId": "90a47688-bd02-4a64-8955-a967ba6ea8b8"
      },
      "source": [
        "!pip install Pydrive"
      ],
      "execution_count": 11,
      "outputs": [
        {
          "output_type": "stream",
          "text": [
            "Requirement already satisfied: Pydrive in /usr/local/lib/python3.6/dist-packages (1.3.1)\n",
            "Requirement already satisfied: oauth2client>=4.0.0 in /usr/local/lib/python3.6/dist-packages (from Pydrive) (4.1.3)\n",
            "Requirement already satisfied: google-api-python-client>=1.2 in /usr/local/lib/python3.6/dist-packages (from Pydrive) (1.7.12)\n",
            "Requirement already satisfied: PyYAML>=3.0 in /usr/local/lib/python3.6/dist-packages (from Pydrive) (3.13)\n",
            "Requirement already satisfied: six>=1.6.1 in /usr/local/lib/python3.6/dist-packages (from oauth2client>=4.0.0->Pydrive) (1.15.0)\n",
            "Requirement already satisfied: pyasn1>=0.1.7 in /usr/local/lib/python3.6/dist-packages (from oauth2client>=4.0.0->Pydrive) (0.4.8)\n",
            "Requirement already satisfied: httplib2>=0.9.1 in /usr/local/lib/python3.6/dist-packages (from oauth2client>=4.0.0->Pydrive) (0.17.4)\n",
            "Requirement already satisfied: pyasn1-modules>=0.0.5 in /usr/local/lib/python3.6/dist-packages (from oauth2client>=4.0.0->Pydrive) (0.2.8)\n",
            "Requirement already satisfied: rsa>=3.1.4 in /usr/local/lib/python3.6/dist-packages (from oauth2client>=4.0.0->Pydrive) (4.6)\n",
            "Requirement already satisfied: google-auth-httplib2>=0.0.3 in /usr/local/lib/python3.6/dist-packages (from google-api-python-client>=1.2->Pydrive) (0.0.4)\n",
            "Requirement already satisfied: uritemplate<4dev,>=3.0.0 in /usr/local/lib/python3.6/dist-packages (from google-api-python-client>=1.2->Pydrive) (3.0.1)\n",
            "Requirement already satisfied: google-auth>=1.4.1 in /usr/local/lib/python3.6/dist-packages (from google-api-python-client>=1.2->Pydrive) (1.17.2)\n",
            "Requirement already satisfied: setuptools>=40.3.0 in /usr/local/lib/python3.6/dist-packages (from google-auth>=1.4.1->google-api-python-client>=1.2->Pydrive) (50.3.2)\n",
            "Requirement already satisfied: cachetools<5.0,>=2.0.0 in /usr/local/lib/python3.6/dist-packages (from google-auth>=1.4.1->google-api-python-client>=1.2->Pydrive) (4.1.1)\n"
          ],
          "name": "stdout"
        }
      ]
    },
    {
      "cell_type": "code",
      "metadata": {
        "id": "TORls006hybK"
      },
      "source": [
        "from pydrive.auth import GoogleAuth\n",
        "from pydrive.drive import GoogleDrive\n",
        "from google.colab import auth\n",
        "from oauth2client.client import GoogleCredentials"
      ],
      "execution_count": 12,
      "outputs": []
    },
    {
      "cell_type": "code",
      "metadata": {
        "id": "MEDu249Oh3Wq"
      },
      "source": [
        "auth.authenticate_user()\n",
        "gauth = GoogleAuth()\n",
        "gauth.credentials = GoogleCredentials.get_application_default()\n",
        "drive = GoogleDrive(gauth)"
      ],
      "execution_count": 14,
      "outputs": []
    },
    {
      "cell_type": "code",
      "metadata": {
        "id": "csGyh4fxklzu"
      },
      "source": [
        "downloaded = drive.CreateFile({'id':\"1FrRTxsrtkX_NUcXSM23MATHBByEstYcg\"})   \n",
        "downloaded.GetContentFile('glove')        "
      ],
      "execution_count": 15,
      "outputs": []
    },
    {
      "cell_type": "code",
      "metadata": {
        "id": "BeJaVQAB65Uz",
        "colab": {
          "base_uri": "https://localhost:8080/",
          "height": 82,
          "referenced_widgets": [
            "a127bcf902584bcaaff506337be1740b",
            "623477395eda46498263a2adab03508b",
            "e5d32dce3a6d413697deaed7084eeb55",
            "d14b1c1d50364fbe8d2b8b3b64ff292b",
            "de3af5f63308474982c7b74ae512e0a4",
            "10b1c35583ee4a90ae587b28450f60aa",
            "bb36e667a8a4483194573c69bd7e290b",
            "cc9f388612ba412781f6873312399e8a"
          ]
        },
        "outputId": "50daa053-d8a3-4932-8a6c-f9b3edf2b15d"
      },
      "source": [
        "import numpy as np\n",
        "import codecs\n",
        "from tqdm.notebook import tqdm\n",
        "\n",
        "embeddings_index = dict()\n",
        "f = codecs.open('glove', encoding='utf-8')\n",
        "for line in tqdm(f):\n",
        "    values = line.rstrip().rsplit(' ')\n",
        "    word = values[0]\n",
        "    coefs = np.asarray(values[1:], dtype='float32')\n",
        "    embeddings_index[word] = coefs\n",
        "print('Loaded %s word vectors.' % len(embeddings_index))"
      ],
      "execution_count": 16,
      "outputs": [
        {
          "output_type": "display_data",
          "data": {
            "application/vnd.jupyter.widget-view+json": {
              "model_id": "a127bcf902584bcaaff506337be1740b",
              "version_minor": 0,
              "version_major": 2
            },
            "text/plain": [
              "HBox(children=(FloatProgress(value=1.0, bar_style='info', max=1.0), HTML(value='')))"
            ]
          },
          "metadata": {
            "tags": []
          }
        },
        {
          "output_type": "stream",
          "text": [
            "\n",
            "Loaded 400000 word vectors.\n"
          ],
          "name": "stdout"
        }
      ]
    },
    {
      "cell_type": "code",
      "metadata": {
        "id": "gl7Mu1uPXPU8",
        "colab": {
          "base_uri": "https://localhost:8080/"
        },
        "outputId": "b2935317-ffff-48d5-a1a7-2cf30d687166"
      },
      "source": [
        "#in 1 từ xem thử\n",
        "embeddings_index[\"terribly\"]"
      ],
      "execution_count": 17,
      "outputs": [
        {
          "output_type": "execute_result",
          "data": {
            "text/plain": [
              "array([ 0.094505 , -0.5941   ,  0.30503  , -0.42025  ,  0.37319  ,\n",
              "        0.10674  , -0.16244  ,  0.2722   , -0.032905 , -0.89793  ,\n",
              "        0.18142  ,  0.011205 , -0.26562  ,  0.088003 , -0.44671  ,\n",
              "       -0.17606  , -0.45978  , -0.29369  ,  0.14812  , -0.011042 ,\n",
              "        0.47637  ,  0.52269  ,  0.28908  ,  0.0051047, -0.48634  ,\n",
              "        0.15869  ,  0.70605  , -0.87434  ,  0.01627  ,  0.49763  ,\n",
              "       -0.073663 ,  0.5468   , -0.67707  , -0.35679  , -0.45932  ,\n",
              "        0.23874  , -0.089475 ,  0.0093915,  0.51898  ,  0.04002  ,\n",
              "        0.1606   , -0.18729  , -0.23099  , -0.51141  , -0.025704 ,\n",
              "        0.46778  , -0.060693 , -0.35128  ,  0.2131   ,  0.47191  ,\n",
              "        0.3941   , -0.20462  ,  0.357    ,  0.06115  , -0.52819  ,\n",
              "        0.07552  ,  0.10749  ,  0.042751 ,  0.72118  ,  0.42015  ,\n",
              "        0.034104 , -0.34661  ,  0.062814 ,  0.29399  , -0.43359  ,\n",
              "        0.17527  ,  0.57559  , -0.47333  , -0.079962 , -0.11137  ,\n",
              "       -0.43098  , -0.45791  , -0.13897  ,  0.52251  ,  0.28817  ,\n",
              "       -0.35262  ,  0.3993   ,  0.63362  , -0.21421  ,  0.36936  ,\n",
              "       -0.36894  ,  0.054098 ,  0.69502  , -0.64013  , -0.14438  ,\n",
              "        0.25774  ,  0.32397  ,  0.15065  ,  0.41133  ,  0.48163  ,\n",
              "       -0.0517   ,  0.45673  , -0.53352  , -0.60102  ,  0.41722  ,\n",
              "       -0.12249  ,  0.091114 , -0.13196  , -0.04184  ,  0.56735  ,\n",
              "       -0.18389  , -0.38788  ,  0.10988  ,  0.71594  , -0.33282  ,\n",
              "       -0.048966 , -0.11588  , -0.10423  , -0.019122 ,  0.21723  ,\n",
              "       -0.64553  , -0.024721 ,  0.3317   , -0.40146  ,  0.34356  ,\n",
              "       -0.31221  ,  0.14804  , -0.3049   ,  0.1158   ,  0.31165  ,\n",
              "       -0.050701 , -0.30928  ,  0.17807  ,  0.29992  ,  0.28712  ,\n",
              "       -0.030895 ,  0.3322   ,  0.22882  , -0.15099  ,  0.087868 ,\n",
              "        0.69742  , -0.033827 ,  0.022014 ,  0.079232 , -0.76479  ,\n",
              "       -0.15893  , -0.12116  ,  0.046055 ,  0.24377  ,  0.13454  ,\n",
              "       -0.14242  ,  0.19107  ,  0.12954  ,  0.46292  , -0.46967  ,\n",
              "       -0.037755 , -0.050273 ,  0.39048  , -0.1516   ,  0.13286  ,\n",
              "       -0.8229   , -0.43827  ,  0.028243 , -0.19465  , -0.43006  ,\n",
              "        0.058967 ,  0.090568 ,  0.18171  , -0.39171  ,  0.26632  ,\n",
              "       -0.4322   , -0.14748  , -0.035505 , -0.34893  ,  0.78127  ,\n",
              "       -0.050853 , -0.29891  , -0.21281  , -0.52918  , -0.13261  ,\n",
              "        0.068081 , -0.22618  , -0.30776  , -0.35142  , -0.35751  ,\n",
              "       -0.0095032,  0.24021  ,  0.084084 ,  0.0068951,  0.021976 ,\n",
              "        0.15048  , -0.19962  ,  0.12403  , -0.35797  ,  0.66057  ,\n",
              "       -0.099956 ,  0.53381  , -0.4233   , -0.38185  , -0.094346 ,\n",
              "       -0.22045  , -0.69412  ,  0.26577  ,  0.0029641, -0.1173   ,\n",
              "        0.39758  , -0.58627  , -0.20132  ,  0.23679  , -0.36243  ,\n",
              "        0.2723   ,  0.13589  , -0.30065  , -0.099154 ,  0.15012  ,\n",
              "       -0.16582  ,  0.7504   , -0.23539  ,  0.059367 , -0.55229  ,\n",
              "       -0.36219  ,  0.060991 , -0.017238 ,  0.64458  ,  0.026493 ,\n",
              "       -0.19568  ,  0.53636  , -0.24665  ,  0.54724  ,  0.44815  ,\n",
              "       -0.31985  , -0.31438  , -0.074853 , -0.079258 ,  0.015727 ,\n",
              "        0.40391  , -0.27079  , -0.45248  , -0.66757  ,  0.093394 ,\n",
              "       -0.19436  , -0.11651  , -0.2329   , -0.24755  , -0.48301  ,\n",
              "        0.17079  ,  0.051288 ,  0.31873  , -0.15153  , -0.41696  ,\n",
              "        0.91622  ,  0.26113  ,  0.10448  ,  0.094496 , -0.37868  ,\n",
              "        0.16627  , -0.65999  ,  0.017848 ,  0.21379  ,  0.50863  ,\n",
              "        0.29732  , -0.62261  , -0.5338   ,  0.018691 ,  0.18472  ,\n",
              "        0.53453  ,  0.13422  ,  0.082387 , -0.32243  , -0.22738  ,\n",
              "       -0.47602  ,  0.006477 , -0.52441  , -0.20363  ,  0.27057  ,\n",
              "        0.65184  ,  0.21092  , -0.40235  ,  0.55496  ,  0.69597  ,\n",
              "        0.036153 , -0.3172   , -0.09463  ,  0.34768  ,  0.068018 ,\n",
              "        0.27631  , -0.37378  ,  0.53716  ,  0.044764 ,  0.30317  ,\n",
              "       -0.061279 ,  0.36124  ,  0.57253  , -0.59209  ,  0.065712 ,\n",
              "        0.19491  , -0.1428   ,  0.13034  , -0.45459  , -0.50497  ,\n",
              "        0.46134  ,  0.25482  ,  0.23141  ,  0.16897  ,  0.39576  ,\n",
              "       -0.77935  , -0.12092  , -0.39853  ,  0.15751  ,  0.64308  ],\n",
              "      dtype=float32)"
            ]
          },
          "metadata": {
            "tags": []
          },
          "execution_count": 17
        }
      ]
    },
    {
      "cell_type": "code",
      "metadata": {
        "id": "P8CtnRUW67JP",
        "colab": {
          "base_uri": "https://localhost:8080/"
        },
        "outputId": "6b941fd8-b448-45ec-bb08-9e4e7cc7126a"
      },
      "source": [
        "print('preparing embedding matrix...')\n",
        "words_not_found = []\n",
        "embedding_matrix = np.zeros((50000, 300))\n",
        "for word, i in tokenizer.word_index.items():\n",
        "    embedding_vector = embeddings_index.get(word)\n",
        "    if (embedding_vector is not None) and len(embedding_vector)!=0:\n",
        "        # words not found in embedding index will be all-zeros.\n",
        "        embedding_matrix[i] = embedding_vector\n",
        "    else:\n",
        "        words_not_found.append(word)\n",
        "print('number of null word embeddings: %d' % np.sum(np.sum(embedding_matrix, axis=1) == 0))"
      ],
      "execution_count": 18,
      "outputs": [
        {
          "output_type": "stream",
          "text": [
            "preparing embedding matrix...\n",
            "number of null word embeddings: 26161\n"
          ],
          "name": "stdout"
        }
      ]
    },
    {
      "cell_type": "markdown",
      "metadata": {
        "id": "pblAMbH7QL75"
      },
      "source": [
        "#Train"
      ]
    },
    {
      "cell_type": "code",
      "metadata": {
        "id": "zK2zC1aS6-3C"
      },
      "source": [
        "def train_keras(model_glove):\n",
        "    mc = keras.callbacks.ModelCheckpoint(filepath=\"model_glove_{}.h5\".format(\"_\".join(field)), \n",
        "                                        monitor='val_accuracy',\n",
        "                                        mode='max', \n",
        "                                        verbose=1, \n",
        "                                        save_best_only=True)\n",
        "    history = model_glove.fit(np.array(data), np.array(train_y),\n",
        "                        batch_size=896,\n",
        "                        epochs=10,\n",
        "                        validation_data=(np.array(data_test),\n",
        "                                         np.array(test_y)),\n",
        "                        callbacks=[mc]) \n",
        "\n",
        "    X_test=data_test\n",
        "    y_test=np.array(test_y)\n",
        "    ## Load lại model tốt nhất đã lưu\n",
        "    model_glove.load_weights(\"model_glove_{}.h5\".format(\"_\".join(field)))\n",
        "\n",
        "def accuracy_measure(model_glove):\n",
        "    y_preds = model_glove.predict(data_test)\n",
        "    y_tests = np.array(y_test1)\n",
        "    y_preds = np.array(y_preds)\n",
        "    for i in [1,3,5,10]:\n",
        "        y_pred = np.argsort(y_preds, axis=1)[:,-i:]\n",
        "        a=0\n",
        "        for j,t in enumerate(y_tests):\n",
        "            if t in y_pred[j]:\n",
        "                a=a+1\n",
        "        print(a/len(y_tests))\n"
      ],
      "execution_count": 19,
      "outputs": []
    },
    {
      "cell_type": "code",
      "metadata": {
        "id": "xGUY5Y687Ehj",
        "colab": {
          "base_uri": "https://localhost:8080/"
        },
        "outputId": "0d9619f0-5d53-4ba0-ab91-f92d78821802"
      },
      "source": [
        "import functools\n",
        "top3_acc = functools.partial(keras.metrics.top_k_categorical_accuracy,\n",
        "                             k=3)\n",
        "top3_acc.__name__ = \"top3\"\n",
        "top5_acc = functools.partial(keras.metrics.top_k_categorical_accuracy,\n",
        "                             k=5)\n",
        "top5_acc.__name__ = \"top5\"\n",
        "top10_acc = functools.partial(keras.metrics.top_k_categorical_accuracy,\n",
        "                              k=10)\n",
        "top10_acc.__name__ = \"top10\"\n",
        "\n",
        "import time\n",
        "\n",
        "t=time.time()\n",
        "model_glove = Sequential()\n",
        "model_glove.add(Embedding(vocabulary_size, 300, \n",
        "                              input_length=len(data[0]), \n",
        "                              weights=[embedding_matrix], \n",
        "                              trainable=False))\n",
        "model_glove.add(Conv1D(1800, 2, activation='relu'))\n",
        "\n",
        "model_glove.add(GlobalMaxPooling1D())\n",
        "model_glove.add(Flatten())\n",
        "model_glove.add(Dense(1000, activation='relu'))\n",
        "model_glove.add(Dropout(0.2))\n",
        "\n",
        "model_glove.add(Dense(66, activation='softmax'))\n",
        "\n",
        "model_glove.compile(loss='categorical_crossentropy', \n",
        "                        optimizer=\"Adam\", \n",
        "                        metrics=[\"accuracy\",top3_acc,top5_acc,top10_acc])\n",
        "                        \n",
        "model_glove.summary()\n",
        "train_keras(model_glove)\n",
        "    \n",
        "    \n"
      ],
      "execution_count": 21,
      "outputs": [
        {
          "output_type": "stream",
          "text": [
            "Model: \"sequential\"\n",
            "_________________________________________________________________\n",
            "Layer (type)                 Output Shape              Param #   \n",
            "=================================================================\n",
            "embedding (Embedding)        (None, 592, 300)          15000000  \n",
            "_________________________________________________________________\n",
            "conv1d (Conv1D)              (None, 591, 1800)         1081800   \n",
            "_________________________________________________________________\n",
            "global_max_pooling1d (Global (None, 1800)              0         \n",
            "_________________________________________________________________\n",
            "flatten (Flatten)            (None, 1800)              0         \n",
            "_________________________________________________________________\n",
            "dense (Dense)                (None, 1000)              1801000   \n",
            "_________________________________________________________________\n",
            "dropout (Dropout)            (None, 1000)              0         \n",
            "_________________________________________________________________\n",
            "dense_1 (Dense)              (None, 66)                66066     \n",
            "=================================================================\n",
            "Total params: 17,948,866\n",
            "Trainable params: 2,948,866\n",
            "Non-trainable params: 15,000,000\n",
            "_________________________________________________________________\n",
            "Epoch 1/10\n",
            "10/10 [==============================] - ETA: 0s - loss: 4.1797 - accuracy: 0.0567 - top3: 0.1319 - top5: 0.1991 - top10: 0.3396\n",
            "Epoch 00001: val_accuracy improved from -inf to 0.08623, saving model to model_glove_Key.h5\n",
            "10/10 [==============================] - 20s 2s/step - loss: 4.1797 - accuracy: 0.0567 - top3: 0.1319 - top5: 0.1991 - top10: 0.3396 - val_loss: 3.5826 - val_accuracy: 0.0862 - val_top3: 0.2362 - val_top5: 0.3795 - val_top10: 0.5605\n",
            "Epoch 2/10\n",
            "10/10 [==============================] - ETA: 0s - loss: 3.2649 - accuracy: 0.2331 - top3: 0.3990 - top5: 0.5013 - top10: 0.6381\n",
            "Epoch 00002: val_accuracy improved from 0.08623 to 0.32046, saving model to model_glove_Key.h5\n",
            "10/10 [==============================] - 13s 1s/step - loss: 3.2649 - accuracy: 0.2331 - top3: 0.3990 - top5: 0.5013 - top10: 0.6381 - val_loss: 2.8318 - val_accuracy: 0.3205 - val_top3: 0.5282 - val_top5: 0.6243 - val_top10: 0.7382\n",
            "Epoch 3/10\n",
            "10/10 [==============================] - ETA: 0s - loss: 2.5143 - accuracy: 0.3706 - top3: 0.5919 - top5: 0.6994 - top10: 0.8095\n",
            "Epoch 00003: val_accuracy improved from 0.32046 to 0.39883, saving model to model_glove_Key.h5\n",
            "10/10 [==============================] - 13s 1s/step - loss: 2.5143 - accuracy: 0.3706 - top3: 0.5919 - top5: 0.6994 - top10: 0.8095 - val_loss: 2.2936 - val_accuracy: 0.3988 - val_top3: 0.6236 - val_top5: 0.7265 - val_top10: 0.8556\n",
            "Epoch 4/10\n",
            "10/10 [==============================] - ETA: 0s - loss: 1.9799 - accuracy: 0.4630 - top3: 0.7100 - top5: 0.8050 - top10: 0.8966\n",
            "Epoch 00004: val_accuracy improved from 0.39883 to 0.46598, saving model to model_glove_Key.h5\n",
            "10/10 [==============================] - 14s 1s/step - loss: 1.9799 - accuracy: 0.4630 - top3: 0.7100 - top5: 0.8050 - top10: 0.8966 - val_loss: 1.9677 - val_accuracy: 0.4660 - val_top3: 0.6959 - val_top5: 0.7992 - val_top10: 0.9097\n",
            "Epoch 5/10\n",
            "10/10 [==============================] - ETA: 0s - loss: 1.6276 - accuracy: 0.5342 - top3: 0.7847 - top5: 0.8696 - top10: 0.9449\n",
            "Epoch 00005: val_accuracy improved from 0.46598 to 0.49742, saving model to model_glove_Key.h5\n",
            "10/10 [==============================] - 14s 1s/step - loss: 1.6276 - accuracy: 0.5342 - top3: 0.7847 - top5: 0.8696 - top10: 0.9449 - val_loss: 1.7848 - val_accuracy: 0.4974 - val_top3: 0.7269 - val_top5: 0.8316 - val_top10: 0.9347\n",
            "Epoch 6/10\n",
            "10/10 [==============================] - ETA: 0s - loss: 1.3728 - accuracy: 0.5906 - top3: 0.8348 - top5: 0.9107 - top10: 0.9686\n",
            "Epoch 00006: val_accuracy improved from 0.49742 to 0.53065, saving model to model_glove_Key.h5\n",
            "10/10 [==============================] - 14s 1s/step - loss: 1.3728 - accuracy: 0.5906 - top3: 0.8348 - top5: 0.9107 - top10: 0.9686 - val_loss: 1.7089 - val_accuracy: 0.5307 - val_top3: 0.7557 - val_top5: 0.8500 - val_top10: 0.9425\n",
            "Epoch 7/10\n",
            "10/10 [==============================] - ETA: 0s - loss: 1.1772 - accuracy: 0.6518 - top3: 0.8767 - top5: 0.9381 - top10: 0.9804\n",
            "Epoch 00007: val_accuracy did not improve from 0.53065\n",
            "10/10 [==============================] - 14s 1s/step - loss: 1.1772 - accuracy: 0.6518 - top3: 0.8767 - top5: 0.9381 - top10: 0.9804 - val_loss: 1.6616 - val_accuracy: 0.5307 - val_top3: 0.7743 - val_top5: 0.8637 - val_top10: 0.9562\n",
            "Epoch 8/10\n",
            "10/10 [==============================] - ETA: 0s - loss: 1.0160 - accuracy: 0.6934 - top3: 0.9059 - top5: 0.9580 - top10: 0.9881\n",
            "Epoch 00008: val_accuracy improved from 0.53065 to 0.55940, saving model to model_glove_Key.h5\n",
            "10/10 [==============================] - 14s 1s/step - loss: 1.0160 - accuracy: 0.6934 - top3: 0.9059 - top5: 0.9580 - top10: 0.9881 - val_loss: 1.5444 - val_accuracy: 0.5594 - val_top3: 0.7896 - val_top5: 0.8754 - val_top10: 0.9611\n",
            "Epoch 9/10\n",
            "10/10 [==============================] - ETA: 0s - loss: 0.8891 - accuracy: 0.7358 - top3: 0.9283 - top5: 0.9689 - top10: 0.9920\n",
            "Epoch 00009: val_accuracy improved from 0.55940 to 0.57310, saving model to model_glove_Key.h5\n",
            "10/10 [==============================] - 14s 1s/step - loss: 0.8891 - accuracy: 0.7358 - top3: 0.9283 - top5: 0.9689 - top10: 0.9920 - val_loss: 1.4822 - val_accuracy: 0.5731 - val_top3: 0.8010 - val_top5: 0.8918 - val_top10: 0.9708\n",
            "Epoch 10/10\n",
            "10/10 [==============================] - ETA: 0s - loss: 0.7742 - accuracy: 0.7747 - top3: 0.9468 - top5: 0.9788 - top10: 0.9944\n",
            "Epoch 00010: val_accuracy improved from 0.57310 to 0.57602, saving model to model_glove_Key.h5\n",
            "10/10 [==============================] - 14s 1s/step - loss: 0.7742 - accuracy: 0.7747 - top3: 0.9468 - top5: 0.9788 - top10: 0.9944 - val_loss: 1.4365 - val_accuracy: 0.5760 - val_top3: 0.8096 - val_top5: 0.8985 - val_top10: 0.9710\n",
            "best model: \n"
          ],
          "name": "stdout"
        }
      ]
    },
    {
      "cell_type": "code",
      "metadata": {
        "id": "nTFWv3Kx4TG6",
        "colab": {
          "base_uri": "https://localhost:8080/"
        },
        "outputId": "a3289f8d-f0ad-4974-dc45-aa25388053b4"
      },
      "source": [
        "accuracy_measure(model_glove)\n",
        "#acuuracy lần lượt là top1, top3, top5, top10"
      ],
      "execution_count": 22,
      "outputs": [
        {
          "output_type": "stream",
          "text": [
            "0.5760161688749158\n",
            "0.809566584325174\n",
            "0.8984953963620032\n",
            "0.9710307657758814\n"
          ],
          "name": "stdout"
        }
      ]
    },
    {
      "cell_type": "code",
      "metadata": {
        "id": "VHQIRYI3naO5"
      },
      "source": [
        ""
      ],
      "execution_count": null,
      "outputs": []
    }
  ]
}