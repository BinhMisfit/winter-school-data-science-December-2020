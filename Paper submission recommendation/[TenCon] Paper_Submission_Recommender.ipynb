{
  "nbformat": 4,
  "nbformat_minor": 0,
  "metadata": {
    "colab": {
      "name": "[TenCon] Paper Submission Recommender.ipynb",
      "provenance": [],
      "collapsed_sections": []
    },
    "kernelspec": {
      "name": "python3",
      "display_name": "Python 3"
    },
    "widgets": {
      "application/vnd.jupyter.widget-state+json": {
        "276555c5964a413e956fe1370ee45503": {
          "model_module": "@jupyter-widgets/controls",
          "model_name": "HBoxModel",
          "state": {
            "_view_name": "HBoxView",
            "_dom_classes": [],
            "_model_name": "HBoxModel",
            "_view_module": "@jupyter-widgets/controls",
            "_model_module_version": "1.5.0",
            "_view_count": null,
            "_view_module_version": "1.5.0",
            "box_style": "",
            "layout": "IPY_MODEL_6baac0369ef94173a1e87908e5bc1f66",
            "_model_module": "@jupyter-widgets/controls",
            "children": [
              "IPY_MODEL_c9b8e89c07174d889d62c3e23279768b",
              "IPY_MODEL_1c3d270f306544e8bdf2776c338a7004"
            ]
          }
        },
        "6baac0369ef94173a1e87908e5bc1f66": {
          "model_module": "@jupyter-widgets/base",
          "model_name": "LayoutModel",
          "state": {
            "_view_name": "LayoutView",
            "grid_template_rows": null,
            "right": null,
            "justify_content": null,
            "_view_module": "@jupyter-widgets/base",
            "overflow": null,
            "_model_module_version": "1.2.0",
            "_view_count": null,
            "flex_flow": null,
            "width": null,
            "min_width": null,
            "border": null,
            "align_items": null,
            "bottom": null,
            "_model_module": "@jupyter-widgets/base",
            "top": null,
            "grid_column": null,
            "overflow_y": null,
            "overflow_x": null,
            "grid_auto_flow": null,
            "grid_area": null,
            "grid_template_columns": null,
            "flex": null,
            "_model_name": "LayoutModel",
            "justify_items": null,
            "grid_row": null,
            "max_height": null,
            "align_content": null,
            "visibility": null,
            "align_self": null,
            "height": null,
            "min_height": null,
            "padding": null,
            "grid_auto_rows": null,
            "grid_gap": null,
            "max_width": null,
            "order": null,
            "_view_module_version": "1.2.0",
            "grid_template_areas": null,
            "object_position": null,
            "object_fit": null,
            "grid_auto_columns": null,
            "margin": null,
            "display": null,
            "left": null
          }
        },
        "c9b8e89c07174d889d62c3e23279768b": {
          "model_module": "@jupyter-widgets/controls",
          "model_name": "FloatProgressModel",
          "state": {
            "_view_name": "ProgressView",
            "style": "IPY_MODEL_23dc189e75074d3485908fc0ab39af6a",
            "_dom_classes": [],
            "description": "",
            "_model_name": "FloatProgressModel",
            "bar_style": "success",
            "max": 1,
            "_view_module": "@jupyter-widgets/controls",
            "_model_module_version": "1.5.0",
            "value": 1,
            "_view_count": null,
            "_view_module_version": "1.5.0",
            "orientation": "horizontal",
            "min": 0,
            "description_tooltip": null,
            "_model_module": "@jupyter-widgets/controls",
            "layout": "IPY_MODEL_fc91dfbba9ed4160b0a5664e13c29896"
          }
        },
        "1c3d270f306544e8bdf2776c338a7004": {
          "model_module": "@jupyter-widgets/controls",
          "model_name": "HTMLModel",
          "state": {
            "_view_name": "HTMLView",
            "style": "IPY_MODEL_004431411b4f485c91f2ca0b32213244",
            "_dom_classes": [],
            "description": "",
            "_model_name": "HTMLModel",
            "placeholder": "​",
            "_view_module": "@jupyter-widgets/controls",
            "_model_module_version": "1.5.0",
            "value": " 400000/? [01:44&lt;00:00, 3835.24it/s]",
            "_view_count": null,
            "_view_module_version": "1.5.0",
            "description_tooltip": null,
            "_model_module": "@jupyter-widgets/controls",
            "layout": "IPY_MODEL_2b3d24fed50a431e811c4c1d62432249"
          }
        },
        "23dc189e75074d3485908fc0ab39af6a": {
          "model_module": "@jupyter-widgets/controls",
          "model_name": "ProgressStyleModel",
          "state": {
            "_view_name": "StyleView",
            "_model_name": "ProgressStyleModel",
            "description_width": "initial",
            "_view_module": "@jupyter-widgets/base",
            "_model_module_version": "1.5.0",
            "_view_count": null,
            "_view_module_version": "1.2.0",
            "bar_color": null,
            "_model_module": "@jupyter-widgets/controls"
          }
        },
        "fc91dfbba9ed4160b0a5664e13c29896": {
          "model_module": "@jupyter-widgets/base",
          "model_name": "LayoutModel",
          "state": {
            "_view_name": "LayoutView",
            "grid_template_rows": null,
            "right": null,
            "justify_content": null,
            "_view_module": "@jupyter-widgets/base",
            "overflow": null,
            "_model_module_version": "1.2.0",
            "_view_count": null,
            "flex_flow": null,
            "width": null,
            "min_width": null,
            "border": null,
            "align_items": null,
            "bottom": null,
            "_model_module": "@jupyter-widgets/base",
            "top": null,
            "grid_column": null,
            "overflow_y": null,
            "overflow_x": null,
            "grid_auto_flow": null,
            "grid_area": null,
            "grid_template_columns": null,
            "flex": null,
            "_model_name": "LayoutModel",
            "justify_items": null,
            "grid_row": null,
            "max_height": null,
            "align_content": null,
            "visibility": null,
            "align_self": null,
            "height": null,
            "min_height": null,
            "padding": null,
            "grid_auto_rows": null,
            "grid_gap": null,
            "max_width": null,
            "order": null,
            "_view_module_version": "1.2.0",
            "grid_template_areas": null,
            "object_position": null,
            "object_fit": null,
            "grid_auto_columns": null,
            "margin": null,
            "display": null,
            "left": null
          }
        },
        "004431411b4f485c91f2ca0b32213244": {
          "model_module": "@jupyter-widgets/controls",
          "model_name": "DescriptionStyleModel",
          "state": {
            "_view_name": "StyleView",
            "_model_name": "DescriptionStyleModel",
            "description_width": "",
            "_view_module": "@jupyter-widgets/base",
            "_model_module_version": "1.5.0",
            "_view_count": null,
            "_view_module_version": "1.2.0",
            "_model_module": "@jupyter-widgets/controls"
          }
        },
        "2b3d24fed50a431e811c4c1d62432249": {
          "model_module": "@jupyter-widgets/base",
          "model_name": "LayoutModel",
          "state": {
            "_view_name": "LayoutView",
            "grid_template_rows": null,
            "right": null,
            "justify_content": null,
            "_view_module": "@jupyter-widgets/base",
            "overflow": null,
            "_model_module_version": "1.2.0",
            "_view_count": null,
            "flex_flow": null,
            "width": null,
            "min_width": null,
            "border": null,
            "align_items": null,
            "bottom": null,
            "_model_module": "@jupyter-widgets/base",
            "top": null,
            "grid_column": null,
            "overflow_y": null,
            "overflow_x": null,
            "grid_auto_flow": null,
            "grid_area": null,
            "grid_template_columns": null,
            "flex": null,
            "_model_name": "LayoutModel",
            "justify_items": null,
            "grid_row": null,
            "max_height": null,
            "align_content": null,
            "visibility": null,
            "align_self": null,
            "height": null,
            "min_height": null,
            "padding": null,
            "grid_auto_rows": null,
            "grid_gap": null,
            "max_width": null,
            "order": null,
            "_view_module_version": "1.2.0",
            "grid_template_areas": null,
            "object_position": null,
            "object_fit": null,
            "grid_auto_columns": null,
            "margin": null,
            "display": null,
            "left": null
          }
        }
      }
    }
  },
  "cells": [
    {
      "cell_type": "code",
      "metadata": {
        "colab": {
          "base_uri": "https://localhost:8080/"
        },
        "id": "8QmFwoV0sy8Y",
        "outputId": "5fcde748-2e3e-441e-bd40-1e680ed0f91b"
      },
      "source": [
        "import os\n",
        "from google.colab import drive\n",
        "drive.mount('/content/gdrive')\n",
        "\n",
        "my_drive = '/content/gdrive/MyDrive'\n",
        "path = os.path.join(my_drive, \"AISIA/Paper submission recommendation\")\n",
        "data_dir = os.path.join(path, \"\")"
      ],
      "execution_count": 25,
      "outputs": [
        {
          "output_type": "stream",
          "text": [
            "Drive already mounted at /content/gdrive; to attempt to forcibly remount, call drive.mount(\"/content/gdrive\", force_remount=True).\n"
          ],
          "name": "stdout"
        }
      ]
    },
    {
      "cell_type": "code",
      "metadata": {
        "id": "horHBcp0tESN"
      },
      "source": [
        "from tensorflow.python.client import device_lib\n"
      ],
      "execution_count": null,
      "outputs": []
    },
    {
      "cell_type": "code",
      "metadata": {
        "colab": {
          "base_uri": "https://localhost:8080/"
        },
        "id": "dDQ7r6U1tMpM",
        "outputId": "fa1f6d6f-ca6d-4d68-f7a5-75f2ef189c77"
      },
      "source": [
        "\n",
        "import tensorflow as tf\n",
        "print(tf.version)"
      ],
      "execution_count": 26,
      "outputs": [
        {
          "output_type": "stream",
          "text": [
            "<module 'tensorflow._api.v2.version' from '/usr/local/lib/python3.6/dist-packages/tensorflow/_api/v2/version/__init__.py'>\n"
          ],
          "name": "stdout"
        }
      ]
    },
    {
      "cell_type": "code",
      "metadata": {
        "id": "HukU6Cs0tPeA"
      },
      "source": [
        "from sklearn.feature_extraction.text import CountVectorizer\n",
        "from sklearn.feature_extraction.text import TfidfTransformer\n",
        "from sklearn.feature_extraction.text import TfidfVectorizer\n",
        "from sklearn.feature_extraction.text import CountVectorizer\n",
        "from sklearn.preprocessing import OneHotEncoder\n",
        "# Keras\n",
        "import tensorflow as tf\n",
        "import tensorflow.keras as keras\n",
        "from tensorflow.keras.preprocessing.text import Tokenizer\n",
        "from tensorflow.keras.preprocessing.sequence import pad_sequences\n",
        "from tensorflow.keras.models import Sequential\n",
        "from tensorflow.keras.layers import Dense, Flatten, LSTM, Conv1D, GlobalMaxPooling1D, Dropout, Activation, GRU, Bidirectional, MaxPooling1D\n",
        "from tensorflow.keras.layers import Embedding\n",
        "# NLTK\n",
        "import nltk\n",
        "from nltk.corpus import stopwords\n",
        "from itertools import product\n",
        "# Other\n",
        "import numpy as np\n",
        "import pandas as pd\n",
        "import pickle\n",
        "import re\n",
        "import string\n",
        "import math\n",
        "import pandas as pd\n",
        "from keras.utils import plot_model"
      ],
      "execution_count": null,
      "outputs": []
    },
    {
      "cell_type": "code",
      "metadata": {
        "id": "gpSzZzS1tTtr"
      },
      "source": [
        "stop = [\"a\", \"about\", \"above\", \"above\", \"across\", \"after\", \"afterwards\", \"again\", \"against\", \"all\", \"almost\", \"alone\", \"along\", \"already\", \"also\",\"although\",\"always\",\"am\",\"among\", \"amongst\", \"amoungst\", \"amount\",  \"an\", \"and\", \"another\", \"any\",\"anyhow\",\"anyone\",\"anything\",\"anyway\", \"anywhere\", \"are\", \"around\", \"as\",  \"at\", \"back\",\"be\",\"became\", \"because\",\"become\",\"becomes\", \"becoming\", \"been\", \"before\", \"beforehand\", \"behind\", \"being\", \"below\", \"beside\", \"besides\", \"between\", \"beyond\", \"bill\", \"both\", \"bottom\",\"but\", \"by\", \"call\", \"can\", \"cannot\", \"cant\", \"co\", \"con\", \"could\", \"couldnt\", \"cry\", \"de\", \"describe\", \"detail\", \"do\", \"done\", \"down\", \"due\", \"during\", \"each\", \"eg\", \"eight\", \"either\", \"eleven\",\"else\", \"elsewhere\", \"empty\", \"enough\", \"etc\", \"even\", \"ever\", \"every\", \"everyone\", \"everything\", \"everywhere\", \"except\", \"few\", \"fifteen\", \"fify\", \"fill\", \"find\", \"fire\", \"first\", \"five\", \"for\", \"former\", \"formerly\", \"forty\", \"found\", \"four\", \"from\", \"front\", \"full\", \"further\", \"get\", \"give\", \"go\", \"had\", \"has\", \"hasnt\", \"have\", \"he\", \"hence\", \"her\", \"here\", \"hereafter\", \"hereby\", \"herein\", \"hereupon\", \"hers\", \"herself\", \"him\", \"himself\", \"his\", \"how\", \"however\", \"hundred\", \"ie\", \"if\", \"in\", \"inc\", \"indeed\", \"interest\", \"into\", \"is\", \"isnt\", \"it\", \"its\", \"itself\", \"keep\", \"keeps\", \"kept\", \"last\", \"latter\", \"latterly\", \"least\", \"less\", \"ltd\", \"made\", \"many\", \"may\", \"me\", \"meanwhile\", \"might\", \"mill\", \"mine\", \"more\", \"moreover\", \"most\", \"mostly\", \"move\", \"much\", \"must\", \"my\", \"myself\", \"name\", \"names\", \"named\", \"namely\", \"neither\", \"never\", \"nevertheless\", \"next\", \"nine\", \"no\", \"nobody\", \"none\", \"noone\", \"nor\", \"not\", \"nothing\", \"now\", \"nowhere\", \"of\", \"off\", \"often\", \"ok\", \"on\", \"once\", \"one\", \"only\", \"onto\", \"or\", \"other\", \"others\", \"otherwise\", \"our\", \"ours\", \"ourselves\", \"out\", \"over\", \"own\",\"part\", \"per\", \"perhaps\", \"please\", \"put\", \"puts\", \"rather\", \"re\", \"same\", \"see\", \"seem\", \"seemed\", \"seeming\", \"seems\", \"sees\", \"serious\", \"several\", \"she\", \"should\", \"show\", \"shows\", \"showed\", \"side\", \"since\", \"sincere\", \"six\", \"sixty\", \"so\", \"some\", \"somehow\", \"someone\", \"something\", \"sometime\", \"sometimes\", \"somewhere\", \"still\", \"such\", \"system\", \"take\", \"ten\", \"than\", \"that\", \"the\", \"their\", \"them\", \"themselves\", \"then\", \"thence\", \"there\", \"thereafter\", \"thereby\", \"therefore\", \"therein\", \"thereupon\", \"these\", \"they\", \"thickv\", \"thin\", \"third\", \"this\", \"those\", \"though\", \"three\", \"through\", \"throughout\", \"thru\", \"thus\", \"to\", \"together\", \"too\", \"top\", \"toward\", \"towards\", \"twelve\", \"twenty\", \"two\", \"un\", \"under\", \"until\", \"up\", \"upon\", \"us\", \"very\", \"via\", \"was\", \"we\", \"well\", \"were\", \"what\", \"whatever\", \"when\", \"whence\", \"whenever\", \"where\", \"whereafter\", \"whereas\", \"whereby\", \"wherein\", \"whereupon\", \"wherever\", \"whether\", \"which\", \"while\", \"whither\", \"who\", \"whoever\", \"whole\", \"whom\", \"whose\", \"why\", \"will\", \"with\", \"within\", \"without\", \"would\", \"yet\", \"you\", \"your\", \"yours\", \"yourself\", \"yourselves\", \"the\", \"b\", \"c\", \"d\", \"e\", \"f\", \"g\", \"h\", \"i\", \"j\", \"k\", \"l\", \"m\", \"n\", \"o\", \"p\", \"q\", \"r\", \"s\", \"t\", \"u\", \"v\", \"w\", \"x\", \"y\", \"z\"]"
      ],
      "execution_count": null,
      "outputs": []
    },
    {
      "cell_type": "code",
      "metadata": {
        "colab": {
          "base_uri": "https://localhost:8080/"
        },
        "id": "GFiXYDXJtXkm",
        "outputId": "110a2f82-2cca-4e6b-fd5f-6380b8b86857"
      },
      "source": [
        "# Pre-processing function\n",
        "nltk.download('stopwords')\n",
        "stop_words = set(stopwords.words('english')) \n",
        "from nltk.stem import PorterStemmer\n",
        "st = PorterStemmer()\n",
        "\n",
        "# Pre-processing function\n",
        "nltk.download('stopwords')\n",
        "stop_words = set(stopwords.words('english')) \n",
        "\n",
        "def preprocess_abstract(text):\n",
        "    text = re.sub(\"[-]+\", \" \", text)\n",
        "    text=text.lower()\n",
        "    text = re.sub(\"\\d+\", \"\", text)\n",
        "    text = re.sub(\"[^\\w]\", \" \", text)\n",
        "\n",
        "    filtered_sentence = [] \n",
        "    for w in text.split(\" \"): \n",
        "        if w not in stop: \n",
        "            filtered_sentence.append(w)\n",
        "    return \" \".join(filtered_sentence)\n",
        "    # return text\n",
        "    \n",
        "def preprocess_keywords(text):\n",
        "    if type(text)==str:\n",
        "        text=text.lower()\n",
        "        text = re.sub(\"\\d+\", \"\", text)\n",
        "        text = re.sub(\"[^\\w]\", \" \", text)\n",
        "        text=\" \".join(text.split())\n",
        "    return text"
      ],
      "execution_count": null,
      "outputs": [
        {
          "output_type": "stream",
          "text": [
            "[nltk_data] Downloading package stopwords to /root/nltk_data...\n",
            "[nltk_data]   Unzipping corpora/stopwords.zip.\n",
            "[nltk_data] Downloading package stopwords to /root/nltk_data...\n",
            "[nltk_data]   Package stopwords is already up-to-date!\n"
          ],
          "name": "stdout"
        }
      ]
    },
    {
      "cell_type": "code",
      "metadata": {
        "id": "Aos7Q2G2tao9"
      },
      "source": [
        "field = [\"Key\"]\n",
        "\n",
        "# Preprocessing for train\n",
        "df_train=pd.read_csv('/content/gdrive/MyDrive/AISIA/Paper submission recommendation/re_data.csv', encoding = \"ISO-8859-1\")\n",
        "df_train = df_train.iloc[df_train[field].dropna().index, :]\n",
        "df_train[\"Abstract1\"] = df_train[\"Abstract\"].map(preprocess_abstract)\n",
        "df_train[\"Title1\"] = df_train[\"Title\"].map(preprocess_abstract)\n",
        "df_train[\"Key1\"] = df_train[\"Key\"].map(preprocess_keywords)\n",
        "    \n",
        "\n",
        "# Preprocessing for test data\n",
        "df_test=pd.read_csv('/content/gdrive/MyDrive/AISIA/Paper submission recommendation/re_data_test.csv', encoding = \"ISO-8859-1\")\n",
        "df_test = df_test.iloc[df_test[field].dropna().index, :]\n",
        "df_test[\"Abstract\"] = df_test[\"Abstract\"].map(preprocess_abstract)\n",
        "df_test[\"Title\"] = df_test[\"Title\"].map(preprocess_abstract)\n",
        "df_test[\"Key\"] = df_test[\"Key\"].map(preprocess_keywords)\n"
      ],
      "execution_count": null,
      "outputs": []
    },
    {
      "cell_type": "code",
      "metadata": {
        "colab": {
          "base_uri": "https://localhost:8080/",
          "height": 555
        },
        "id": "4qbFK0jXtqDa",
        "outputId": "c7fb797c-97df-44db-cbae-963d4ffbdc9a"
      },
      "source": [
        "df_test\n"
      ],
      "execution_count": null,
      "outputs": [
        {
          "output_type": "execute_result",
          "data": {
            "text/html": [
              "<div>\n",
              "<style scoped>\n",
              "    .dataframe tbody tr th:only-of-type {\n",
              "        vertical-align: middle;\n",
              "    }\n",
              "\n",
              "    .dataframe tbody tr th {\n",
              "        vertical-align: top;\n",
              "    }\n",
              "\n",
              "    .dataframe thead th {\n",
              "        text-align: right;\n",
              "    }\n",
              "</style>\n",
              "<table border=\"1\" class=\"dataframe\">\n",
              "  <thead>\n",
              "    <tr style=\"text-align: right;\">\n",
              "      <th></th>\n",
              "      <th>ID</th>\n",
              "      <th>Title</th>\n",
              "      <th>Abstract</th>\n",
              "      <th>KeyWord</th>\n",
              "      <th>ConferenceID</th>\n",
              "      <th>Key</th>\n",
              "      <th>category</th>\n",
              "      <th>abbr</th>\n",
              "    </tr>\n",
              "  </thead>\n",
              "  <tbody>\n",
              "    <tr>\n",
              "      <th>0</th>\n",
              "      <td>3</td>\n",
              "      <td>covert ephemeral communication data networking</td>\n",
              "      <td>recent years  growing belief current ip based ...</td>\n",
              "      <td>NaN</td>\n",
              "      <td>60</td>\n",
              "      <td>security and privacy network security</td>\n",
              "      <td>ACM Conference on Computer and Communications ...</td>\n",
              "      <td>CCS</td>\n",
              "    </tr>\n",
              "    <tr>\n",
              "      <th>1</th>\n",
              "      <td>6</td>\n",
              "      <td>automated protocol reverse engineering using s...</td>\n",
              "      <td>network security products  nids application fi...</td>\n",
              "      <td>NaN</td>\n",
              "      <td>60</td>\n",
              "      <td>networks network protocols software and its en...</td>\n",
              "      <td>ACM Conference on Computer and Communications ...</td>\n",
              "      <td>CCS</td>\n",
              "    </tr>\n",
              "    <tr>\n",
              "      <th>2</th>\n",
              "      <td>9</td>\n",
              "      <td>otit  secure provenance modeling location proofs</td>\n",
              "      <td>personal mobile devices location based service...</td>\n",
              "      <td>NaN</td>\n",
              "      <td>60</td>\n",
              "      <td>security and privacy</td>\n",
              "      <td>ACM Conference on Computer and Communications ...</td>\n",
              "      <td>CCS</td>\n",
              "    </tr>\n",
              "    <tr>\n",
              "      <th>3</th>\n",
              "      <td>12</td>\n",
              "      <td>privacy outsourced means clustering</td>\n",
              "      <td>attractive organization outsource data analyti...</td>\n",
              "      <td>NaN</td>\n",
              "      <td>60</td>\n",
              "      <td>information systems data management systems da...</td>\n",
              "      <td>ACM Conference on Computer and Communications ...</td>\n",
              "      <td>CCS</td>\n",
              "    </tr>\n",
              "    <tr>\n",
              "      <th>4</th>\n",
              "      <td>15</td>\n",
              "      <td>differential privacy     neighbourhood spatial...</td>\n",
              "      <td>differential privacy provides strong guarantee...</td>\n",
              "      <td>NaN</td>\n",
              "      <td>60</td>\n",
              "      <td>information systems information systems applic...</td>\n",
              "      <td>ACM Conference on Computer and Communications ...</td>\n",
              "      <td>CCS</td>\n",
              "    </tr>\n",
              "    <tr>\n",
              "      <th>...</th>\n",
              "      <td>...</td>\n",
              "      <td>...</td>\n",
              "      <td>...</td>\n",
              "      <td>...</td>\n",
              "      <td>...</td>\n",
              "      <td>...</td>\n",
              "      <td>...</td>\n",
              "      <td>...</td>\n",
              "    </tr>\n",
              "    <tr>\n",
              "      <th>4660</th>\n",
              "      <td>14385</td>\n",
              "      <td>linear fitted iteration multiple reward functions</td>\n",
              "      <td>present general detailed development algorithm...</td>\n",
              "      <td>NaN</td>\n",
              "      <td>37</td>\n",
              "      <td>reinforcement learning dynamic programming dec...</td>\n",
              "      <td>Journal of Machine Learning Research</td>\n",
              "      <td>JMLR</td>\n",
              "    </tr>\n",
              "    <tr>\n",
              "      <th>4661</th>\n",
              "      <td>14388</td>\n",
              "      <td>sparse unique nonnegative matrix factorization...</td>\n",
              "      <td>nonnegative matrix factorization  nmf  popular...</td>\n",
              "      <td>NaN</td>\n",
              "      <td>37</td>\n",
              "      <td>nonnegative matrix factorization data preproce...</td>\n",
              "      <td>Journal of Machine Learning Research</td>\n",
              "      <td>JMLR</td>\n",
              "    </tr>\n",
              "    <tr>\n",
              "      <th>4662</th>\n",
              "      <td>14391</td>\n",
              "      <td>fast approximation matrix coherence statistica...</td>\n",
              "      <td>statistical leverage scores   matrix    squar...</td>\n",
              "      <td>NaN</td>\n",
              "      <td>37</td>\n",
              "      <td>matrix coherence statistical leverage randomiz...</td>\n",
              "      <td>Journal of Machine Learning Research</td>\n",
              "      <td>JMLR</td>\n",
              "    </tr>\n",
              "    <tr>\n",
              "      <th>4663</th>\n",
              "      <td>14394</td>\n",
              "      <td>regularized bundle methods convex non convex r...</td>\n",
              "      <td>machine learning cast optimization problem  id...</td>\n",
              "      <td>NaN</td>\n",
              "      <td>37</td>\n",
              "      <td>optimization non convex non smooth cutting pla...</td>\n",
              "      <td>Journal of Machine Learning Research</td>\n",
              "      <td>JMLR</td>\n",
              "    </tr>\n",
              "    <tr>\n",
              "      <th>4664</th>\n",
              "      <td>14397</td>\n",
              "      <td>smoothing multivariate performance measures</td>\n",
              "      <td>optimizing multivariate performance measure im...</td>\n",
              "      <td>NaN</td>\n",
              "      <td>37</td>\n",
              "      <td>non smooth optimization max margin methods mul...</td>\n",
              "      <td>Journal of Machine Learning Research</td>\n",
              "      <td>JMLR</td>\n",
              "    </tr>\n",
              "  </tbody>\n",
              "</table>\n",
              "<p>4453 rows × 8 columns</p>\n",
              "</div>"
            ],
            "text/plain": [
              "         ID  ...  abbr\n",
              "0         3  ...   CCS\n",
              "1         6  ...   CCS\n",
              "2         9  ...   CCS\n",
              "3        12  ...   CCS\n",
              "4        15  ...   CCS\n",
              "...     ...  ...   ...\n",
              "4660  14385  ...  JMLR\n",
              "4661  14388  ...  JMLR\n",
              "4662  14391  ...  JMLR\n",
              "4663  14394  ...  JMLR\n",
              "4664  14397  ...  JMLR\n",
              "\n",
              "[4453 rows x 8 columns]"
            ]
          },
          "metadata": {
            "tags": []
          },
          "execution_count": 8
        }
      ]
    },
    {
      "cell_type": "code",
      "metadata": {
        "id": "m3ySo7Hut5yl"
      },
      "source": [
        "df_train[\"content\"] = df_train[\"Abstract\"] + \" \" + df_train[\"Key\"]  + \" \" + df_train[\"Title\"]\n",
        "df_test[\"content\"] = df_test[\"Abstract\"] + \" \" + df_test[\"Key\"] + \" \" + df_test[\"Title\"]\n",
        "#chọn features cần dùng\n",
        "#df_train[\"content\"] = df_train[\"Title\"]\n",
        "#df_test[\"content\"] = df_test[\"Title\"]"
      ],
      "execution_count": null,
      "outputs": []
    },
    {
      "cell_type": "code",
      "metadata": {
        "id": "rUchHX0auAgh"
      },
      "source": [
        "vocabulary_size = 50000\n",
        "tokenizer = Tokenizer(num_words=vocabulary_size)\n",
        "tokenizer.fit_on_texts(df_train[\"content\"])\n",
        "# Tokenize\n",
        "sequences = tokenizer.texts_to_sequences(df_train[\"content\"])\n",
        "data = pad_sequences(sequences)\n",
        "\n",
        "sequences = tokenizer.texts_to_sequences(df_test[\"content\"])\n",
        "data_test = pad_sequences(sequences, maxlen=len(data[0]))\n",
        "\n",
        "# saving\n",
        "with open('tokenizer_Feature.pickle', 'wb') as handle:\n",
        "    pickle.dump(tokenizer, handle, protocol=pickle.HIGHEST_PROTOCOL)"
      ],
      "execution_count": null,
      "outputs": []
    },
    {
      "cell_type": "code",
      "metadata": {
        "id": "66Ze6ewDuC7o"
      },
      "source": [
        "labels1 = {label:index for \n",
        "index, label in enumerate(df_train.loc[:, \"category\"].unique())}\n",
        "y_train1 = [labels1[value] for index, value in df_train.loc[:, 'category'].iteritems()]\n",
        "y_test1 = [labels1[value] for index, value in df_test.loc[:, 'category'].iteritems()]"
      ],
      "execution_count": null,
      "outputs": []
    },
    {
      "cell_type": "code",
      "metadata": {
        "id": "vx9pYgCzuFPD"
      },
      "source": [
        "onehot_encoder = OneHotEncoder(sparse=False)\n",
        "\n",
        "train_y = np.array(y_train1)\n",
        "train_y = onehot_encoder.fit_transform(train_y.reshape(len(train_y), 1))\n",
        "\n",
        "test_y = np.array(y_test1)\n",
        "test_y = onehot_encoder.transform(test_y.reshape(len(test_y), 1))\n"
      ],
      "execution_count": null,
      "outputs": []
    },
    {
      "cell_type": "markdown",
      "metadata": {
        "id": "AE3xBSo_veUW"
      },
      "source": [
        "\n",
        "\n",
        "\n",
        "#Glove embedding¶\n"
      ]
    },
    {
      "cell_type": "code",
      "metadata": {
        "id": "USaLlHAXuc9R"
      },
      "source": [
        "from pydrive.auth import GoogleAuth\n",
        "from pydrive.drive import GoogleDrive\n",
        "from google.colab import auth\n",
        "from oauth2client.client import GoogleCredentials"
      ],
      "execution_count": 27,
      "outputs": []
    },
    {
      "cell_type": "code",
      "metadata": {
        "id": "y-eCpWnaupK4"
      },
      "source": [
        "auth.authenticate_user()\n",
        "gauth = GoogleAuth()\n",
        "gauth.credentials = GoogleCredentials.get_application_default()\n",
        "drive = GoogleDrive(gauth)"
      ],
      "execution_count": 28,
      "outputs": []
    },
    {
      "cell_type": "code",
      "metadata": {
        "id": "Fe9cWNpwvdIS"
      },
      "source": [
        "downloaded = drive.CreateFile({'id':\"1FrRTxsrtkX_NUcXSM23MATHBByEstYcg\"})   \n",
        "downloaded.GetContentFile('glove')\n"
      ],
      "execution_count": 29,
      "outputs": []
    },
    {
      "cell_type": "code",
      "metadata": {
        "colab": {
          "base_uri": "https://localhost:8080/",
          "height": 83,
          "referenced_widgets": [
            "276555c5964a413e956fe1370ee45503",
            "6baac0369ef94173a1e87908e5bc1f66",
            "c9b8e89c07174d889d62c3e23279768b",
            "1c3d270f306544e8bdf2776c338a7004",
            "23dc189e75074d3485908fc0ab39af6a",
            "fc91dfbba9ed4160b0a5664e13c29896",
            "004431411b4f485c91f2ca0b32213244",
            "2b3d24fed50a431e811c4c1d62432249"
          ]
        },
        "id": "nPFvMfGZurwB",
        "outputId": "129c1750-7619-4b31-f906-a2c36d6f56ed"
      },
      "source": [
        "\n",
        "import numpy as np\n",
        "import codecs\n",
        "from tqdm.notebook import tqdm\n",
        "\n",
        "embeddings_index = dict()\n",
        "f = codecs.open('glove', encoding='utf-8')\n",
        "for line in tqdm(f):\n",
        "    values = line.rstrip().rsplit(' ')\n",
        "    word = values[0]\n",
        "    coefs = np.asarray(values[1:], dtype='float32')\n",
        "    embeddings_index[word] = coefs\n",
        "print('Loaded %s word vectors.' % len(embeddings_index))"
      ],
      "execution_count": 30,
      "outputs": [
        {
          "output_type": "display_data",
          "data": {
            "application/vnd.jupyter.widget-view+json": {
              "model_id": "276555c5964a413e956fe1370ee45503",
              "version_minor": 0,
              "version_major": 2
            },
            "text/plain": [
              "HBox(children=(FloatProgress(value=1.0, bar_style='info', max=1.0), HTML(value='')))"
            ]
          },
          "metadata": {
            "tags": []
          }
        },
        {
          "output_type": "stream",
          "text": [
            "\n",
            "Loaded 400000 word vectors.\n"
          ],
          "name": "stdout"
        }
      ]
    },
    {
      "cell_type": "code",
      "metadata": {
        "id": "p3pYoPZHuyjH",
        "colab": {
          "base_uri": "https://localhost:8080/"
        },
        "outputId": "ed5df521-3ada-49d0-d280-d8af9fa81d21"
      },
      "source": [
        "\n",
        "#in 1 từ xem thử\n",
        "embeddings_index[\"terribly\"]"
      ],
      "execution_count": 31,
      "outputs": [
        {
          "output_type": "execute_result",
          "data": {
            "text/plain": [
              "array([ 0.094505 , -0.5941   ,  0.30503  , -0.42025  ,  0.37319  ,\n",
              "        0.10674  , -0.16244  ,  0.2722   , -0.032905 , -0.89793  ,\n",
              "        0.18142  ,  0.011205 , -0.26562  ,  0.088003 , -0.44671  ,\n",
              "       -0.17606  , -0.45978  , -0.29369  ,  0.14812  , -0.011042 ,\n",
              "        0.47637  ,  0.52269  ,  0.28908  ,  0.0051047, -0.48634  ,\n",
              "        0.15869  ,  0.70605  , -0.87434  ,  0.01627  ,  0.49763  ,\n",
              "       -0.073663 ,  0.5468   , -0.67707  , -0.35679  , -0.45932  ,\n",
              "        0.23874  , -0.089475 ,  0.0093915,  0.51898  ,  0.04002  ,\n",
              "        0.1606   , -0.18729  , -0.23099  , -0.51141  , -0.025704 ,\n",
              "        0.46778  , -0.060693 , -0.35128  ,  0.2131   ,  0.47191  ,\n",
              "        0.3941   , -0.20462  ,  0.357    ,  0.06115  , -0.52819  ,\n",
              "        0.07552  ,  0.10749  ,  0.042751 ,  0.72118  ,  0.42015  ,\n",
              "        0.034104 , -0.34661  ,  0.062814 ,  0.29399  , -0.43359  ,\n",
              "        0.17527  ,  0.57559  , -0.47333  , -0.079962 , -0.11137  ,\n",
              "       -0.43098  , -0.45791  , -0.13897  ,  0.52251  ,  0.28817  ,\n",
              "       -0.35262  ,  0.3993   ,  0.63362  , -0.21421  ,  0.36936  ,\n",
              "       -0.36894  ,  0.054098 ,  0.69502  , -0.64013  , -0.14438  ,\n",
              "        0.25774  ,  0.32397  ,  0.15065  ,  0.41133  ,  0.48163  ,\n",
              "       -0.0517   ,  0.45673  , -0.53352  , -0.60102  ,  0.41722  ,\n",
              "       -0.12249  ,  0.091114 , -0.13196  , -0.04184  ,  0.56735  ,\n",
              "       -0.18389  , -0.38788  ,  0.10988  ,  0.71594  , -0.33282  ,\n",
              "       -0.048966 , -0.11588  , -0.10423  , -0.019122 ,  0.21723  ,\n",
              "       -0.64553  , -0.024721 ,  0.3317   , -0.40146  ,  0.34356  ,\n",
              "       -0.31221  ,  0.14804  , -0.3049   ,  0.1158   ,  0.31165  ,\n",
              "       -0.050701 , -0.30928  ,  0.17807  ,  0.29992  ,  0.28712  ,\n",
              "       -0.030895 ,  0.3322   ,  0.22882  , -0.15099  ,  0.087868 ,\n",
              "        0.69742  , -0.033827 ,  0.022014 ,  0.079232 , -0.76479  ,\n",
              "       -0.15893  , -0.12116  ,  0.046055 ,  0.24377  ,  0.13454  ,\n",
              "       -0.14242  ,  0.19107  ,  0.12954  ,  0.46292  , -0.46967  ,\n",
              "       -0.037755 , -0.050273 ,  0.39048  , -0.1516   ,  0.13286  ,\n",
              "       -0.8229   , -0.43827  ,  0.028243 , -0.19465  , -0.43006  ,\n",
              "        0.058967 ,  0.090568 ,  0.18171  , -0.39171  ,  0.26632  ,\n",
              "       -0.4322   , -0.14748  , -0.035505 , -0.34893  ,  0.78127  ,\n",
              "       -0.050853 , -0.29891  , -0.21281  , -0.52918  , -0.13261  ,\n",
              "        0.068081 , -0.22618  , -0.30776  , -0.35142  , -0.35751  ,\n",
              "       -0.0095032,  0.24021  ,  0.084084 ,  0.0068951,  0.021976 ,\n",
              "        0.15048  , -0.19962  ,  0.12403  , -0.35797  ,  0.66057  ,\n",
              "       -0.099956 ,  0.53381  , -0.4233   , -0.38185  , -0.094346 ,\n",
              "       -0.22045  , -0.69412  ,  0.26577  ,  0.0029641, -0.1173   ,\n",
              "        0.39758  , -0.58627  , -0.20132  ,  0.23679  , -0.36243  ,\n",
              "        0.2723   ,  0.13589  , -0.30065  , -0.099154 ,  0.15012  ,\n",
              "       -0.16582  ,  0.7504   , -0.23539  ,  0.059367 , -0.55229  ,\n",
              "       -0.36219  ,  0.060991 , -0.017238 ,  0.64458  ,  0.026493 ,\n",
              "       -0.19568  ,  0.53636  , -0.24665  ,  0.54724  ,  0.44815  ,\n",
              "       -0.31985  , -0.31438  , -0.074853 , -0.079258 ,  0.015727 ,\n",
              "        0.40391  , -0.27079  , -0.45248  , -0.66757  ,  0.093394 ,\n",
              "       -0.19436  , -0.11651  , -0.2329   , -0.24755  , -0.48301  ,\n",
              "        0.17079  ,  0.051288 ,  0.31873  , -0.15153  , -0.41696  ,\n",
              "        0.91622  ,  0.26113  ,  0.10448  ,  0.094496 , -0.37868  ,\n",
              "        0.16627  , -0.65999  ,  0.017848 ,  0.21379  ,  0.50863  ,\n",
              "        0.29732  , -0.62261  , -0.5338   ,  0.018691 ,  0.18472  ,\n",
              "        0.53453  ,  0.13422  ,  0.082387 , -0.32243  , -0.22738  ,\n",
              "       -0.47602  ,  0.006477 , -0.52441  , -0.20363  ,  0.27057  ,\n",
              "        0.65184  ,  0.21092  , -0.40235  ,  0.55496  ,  0.69597  ,\n",
              "        0.036153 , -0.3172   , -0.09463  ,  0.34768  ,  0.068018 ,\n",
              "        0.27631  , -0.37378  ,  0.53716  ,  0.044764 ,  0.30317  ,\n",
              "       -0.061279 ,  0.36124  ,  0.57253  , -0.59209  ,  0.065712 ,\n",
              "        0.19491  , -0.1428   ,  0.13034  , -0.45459  , -0.50497  ,\n",
              "        0.46134  ,  0.25482  ,  0.23141  ,  0.16897  ,  0.39576  ,\n",
              "       -0.77935  , -0.12092  , -0.39853  ,  0.15751  ,  0.64308  ],\n",
              "      dtype=float32)"
            ]
          },
          "metadata": {
            "tags": []
          },
          "execution_count": 31
        }
      ]
    },
    {
      "cell_type": "code",
      "metadata": {
        "colab": {
          "base_uri": "https://localhost:8080/"
        },
        "id": "Ald5TCDX5Hyj",
        "outputId": "884d3615-07f9-4afa-bf45-ce563c2326b7"
      },
      "source": [
        "print('preparing embedding matrix...')\n",
        "words_not_found = []\n",
        "embedding_matrix = np.zeros((50000, 300))\n",
        "for word, i in tokenizer.word_index.items():\n",
        "    embedding_vector = embeddings_index.get(word)\n",
        "    if (embedding_vector is not None) and len(embedding_vector)!=0:\n",
        "        # words not found in embedding index will be all-zeros.\n",
        "        embedding_matrix[i] = embedding_vector\n",
        "    else:\n",
        "        words_not_found.append(word)\n",
        "print('number of null word embeddings: %d' % np.sum(np.sum(embedding_matrix, axis=1) == 0))\n"
      ],
      "execution_count": 32,
      "outputs": [
        {
          "output_type": "stream",
          "text": [
            "preparing embedding matrix...\n",
            "number of null word embeddings: 26161\n"
          ],
          "name": "stdout"
        }
      ]
    },
    {
      "cell_type": "markdown",
      "metadata": {
        "id": "2KafBi885O-0"
      },
      "source": [
        "# Train\n"
      ]
    },
    {
      "cell_type": "code",
      "metadata": {
        "id": "O8nsqyut5L5b"
      },
      "source": [
        "def train_keras(model_glove):\n",
        "    mc = keras.callbacks.ModelCheckpoint(filepath=\"model_glove_{}.h5\".format(\"_\".join(field)), \n",
        "                                        monitor='val_accuracy',\n",
        "                                        mode='max', \n",
        "                                        verbose=1, \n",
        "                                        save_best_only=True)\n",
        "    history = model_glove.fit(np.array(data), np.array(train_y),\n",
        "                        batch_size=896,\n",
        "                        epochs=10,\n",
        "                        validation_data=(np.array(data_test),\n",
        "                                         np.array(test_y)),\n",
        "                        callbacks=[mc]) \n",
        "\n",
        "    X_test=data_test\n",
        "    y_test=np.array(test_y)\n",
        "    ## Load lại model tốt nhất đã lưu\n",
        "    model_glove.load_weights(\"model_glove_{}.h5\".format(\"_\".join(field)))\n",
        "\n",
        "def accuracy_measure(model_glove):\n",
        "    y_preds = model_glove.predict(data_test)\n",
        "    y_tests = np.array(y_test1)\n",
        "    y_preds = np.array(y_preds)\n",
        "    for i in [1,3,5,10]:\n",
        "        y_pred = np.argsort(y_preds, axis=1)[:,-i:]\n",
        "        a=0\n",
        "        for j,t in enumerate(y_tests):\n",
        "            if t in y_pred[j]:\n",
        "                a=a+1\n",
        "        print(a/len(y_tests))"
      ],
      "execution_count": 33,
      "outputs": []
    },
    {
      "cell_type": "code",
      "metadata": {
        "colab": {
          "base_uri": "https://localhost:8080/"
        },
        "id": "5Lt6QDj15WRk",
        "outputId": "4578702a-cccb-4a1d-9cba-138df8606662"
      },
      "source": [
        "import functools\n",
        "top3_acc = functools.partial(keras.metrics.top_k_categorical_accuracy,\n",
        "                             k=3)\n",
        "top3_acc.__name__ = \"top3\"\n",
        "top5_acc = functools.partial(keras.metrics.top_k_categorical_accuracy,\n",
        "                             k=5)\n",
        "top5_acc.__name__ = \"top5\"\n",
        "top10_acc = functools.partial(keras.metrics.top_k_categorical_accuracy,\n",
        "                              k=10)\n",
        "top10_acc.__name__ = \"top10\"\n",
        "\n",
        "import time\n",
        "\n",
        "t=time.time()\n",
        "model_glove = Sequential()\n",
        "model_glove.add(Embedding(vocabulary_size, 300, \n",
        "                              input_length=len(data[0]), \n",
        "                              weights=[embedding_matrix], \n",
        "                              trainable=False))\n",
        "model_glove.add(Conv1D(1800, 2, activation='relu'))\n",
        "\n",
        "model_glove.add(GlobalMaxPooling1D())\n",
        "model_glove.add(Flatten())\n",
        "model_glove.add(Dense(1000, activation='relu'))\n",
        "model_glove.add(Dropout(0.2))\n",
        "\n",
        "model_glove.add(Dense(66, activation='softmax'))\n",
        "\n",
        "model_glove.compile(loss='categorical_crossentropy', \n",
        "                        optimizer=\"Adam\", \n",
        "                        metrics=[\"accuracy\",top3_acc,top5_acc,top10_acc])\n",
        "                        \n",
        "model_glove.summary()\n",
        "train_keras(model_glove)"
      ],
      "execution_count": null,
      "outputs": [
        {
          "output_type": "stream",
          "text": [
            "Model: \"sequential\"\n",
            "_________________________________________________________________\n",
            "Layer (type)                 Output Shape              Param #   \n",
            "=================================================================\n",
            "embedding (Embedding)        (None, 592, 300)          15000000  \n",
            "_________________________________________________________________\n",
            "conv1d (Conv1D)              (None, 591, 1800)         1081800   \n",
            "_________________________________________________________________\n",
            "global_max_pooling1d (Global (None, 1800)              0         \n",
            "_________________________________________________________________\n",
            "flatten (Flatten)            (None, 1800)              0         \n",
            "_________________________________________________________________\n",
            "dense (Dense)                (None, 1000)              1801000   \n",
            "_________________________________________________________________\n",
            "dropout (Dropout)            (None, 1000)              0         \n",
            "_________________________________________________________________\n",
            "dense_1 (Dense)              (None, 66)                66066     \n",
            "=================================================================\n",
            "Total params: 17,948,866\n",
            "Trainable params: 2,948,866\n",
            "Non-trainable params: 15,000,000\n",
            "_________________________________________________________________\n",
            "Epoch 1/10\n",
            "10/10 [==============================] - ETA: 0s - loss: 4.2392 - accuracy: 0.0618 - top3: 0.1398 - top5: 0.2028 - top10: 0.3394 \n",
            "Epoch 00001: val_accuracy improved from -inf to 0.07703, saving model to model_glove_Key.h5\n",
            "10/10 [==============================] - 481s 48s/step - loss: 4.2392 - accuracy: 0.0618 - top3: 0.1398 - top5: 0.2028 - top10: 0.3394 - val_loss: 3.6274 - val_accuracy: 0.0770 - val_top3: 0.2895 - val_top5: 0.4298 - val_top10: 0.5253\n",
            "Epoch 2/10\n",
            "10/10 [==============================] - ETA: 0s - loss: 3.3186 - accuracy: 0.2136 - top3: 0.3941 - top5: 0.4910 - top10: 0.6227 \n",
            "Epoch 00002: val_accuracy improved from 0.07703 to 0.33034, saving model to model_glove_Key.h5\n",
            "10/10 [==============================] - 483s 48s/step - loss: 3.3186 - accuracy: 0.2136 - top3: 0.3941 - top5: 0.4910 - top10: 0.6227 - val_loss: 2.8983 - val_accuracy: 0.3303 - val_top3: 0.5432 - val_top5: 0.6328 - val_top10: 0.7444\n",
            "Epoch 3/10\n",
            "10/10 [==============================] - ETA: 0s - loss: 2.5537 - accuracy: 0.3692 - top3: 0.5845 - top5: 0.6896 - top10: 0.7988 \n",
            "Epoch 00003: val_accuracy improved from 0.33034 to 0.39030, saving model to model_glove_Key.h5\n",
            "10/10 [==============================] - 484s 48s/step - loss: 2.5537 - accuracy: 0.3692 - top3: 0.5845 - top5: 0.6896 - top10: 0.7988 - val_loss: 2.3428 - val_accuracy: 0.3903 - val_top3: 0.6164 - val_top5: 0.7105 - val_top10: 0.8462\n",
            "Epoch 4/10\n",
            "10/10 [==============================] - ETA: 0s - loss: 1.9892 - accuracy: 0.4560 - top3: 0.7051 - top5: 0.8028 - top10: 0.8973 \n",
            "Epoch 00004: val_accuracy improved from 0.39030 to 0.43723, saving model to model_glove_Key.h5\n",
            "10/10 [==============================] - 481s 48s/step - loss: 1.9892 - accuracy: 0.4560 - top3: 0.7051 - top5: 0.8028 - top10: 0.8973 - val_loss: 2.0457 - val_accuracy: 0.4372 - val_top3: 0.6831 - val_top5: 0.7763 - val_top10: 0.8987\n",
            "Epoch 5/10\n",
            "10/10 [==============================] - ETA: 0s - loss: 1.6385 - accuracy: 0.5291 - top3: 0.7796 - top5: 0.8654 - top10: 0.9440 \n",
            "Epoch 00005: val_accuracy improved from 0.43723 to 0.48529, saving model to model_glove_Key.h5\n",
            "10/10 [==============================] - 480s 48s/step - loss: 1.6385 - accuracy: 0.5291 - top3: 0.7796 - top5: 0.8654 - top10: 0.9440 - val_loss: 1.8138 - val_accuracy: 0.4853 - val_top3: 0.7211 - val_top5: 0.8280 - val_top10: 0.9396\n",
            "Epoch 6/10\n",
            "10/10 [==============================] - ETA: 0s - loss: 1.3760 - accuracy: 0.5975 - top3: 0.8316 - top5: 0.9090 - top10: 0.9688 \n",
            "Epoch 00006: val_accuracy improved from 0.48529 to 0.53133, saving model to model_glove_Key.h5\n",
            "10/10 [==============================] - 481s 48s/step - loss: 1.3760 - accuracy: 0.5975 - top3: 0.8316 - top5: 0.9090 - top10: 0.9688 - val_loss: 1.6790 - val_accuracy: 0.5313 - val_top3: 0.7588 - val_top5: 0.8576 - val_top10: 0.9457\n"
          ],
          "name": "stdout"
        }
      ]
    },
    {
      "cell_type": "code",
      "metadata": {
        "id": "ZCrkS9Sg5bO-"
      },
      "source": [
        "\n",
        "accuracy_measure(model_glove)\n",
        "#acuuracy lần lượt là top1, top3, top5, top10"
      ],
      "execution_count": null,
      "outputs": []
    },
    {
      "cell_type": "code",
      "metadata": {
        "id": "0_LDCdAe5fZt"
      },
      "source": [
        ""
      ],
      "execution_count": null,
      "outputs": []
    }
  ]
}